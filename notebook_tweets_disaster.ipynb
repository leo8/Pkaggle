{
 "cells": [
  {
   "cell_type": "markdown",
   "id": "a7b869fa",
   "metadata": {},
   "source": [
    "# Import des librairies"
   ]
  },
  {
   "cell_type": "code",
   "execution_count": 70,
   "id": "294d328f",
   "metadata": {},
   "outputs": [],
   "source": [
    "#Main libraries\n",
    "\n",
    "import pandas as pd\n",
    "import numpy as np\n",
    "import matplotlib.pyplot as plt"
   ]
  },
  {
   "cell_type": "code",
   "execution_count": 2,
   "id": "da381c7f",
   "metadata": {},
   "outputs": [],
   "source": [
    "#Embeddings\n",
    "\n",
    "from sentence_transformers import util, SentenceTransformer"
   ]
  },
  {
   "cell_type": "code",
   "execution_count": 3,
   "id": "811665fd",
   "metadata": {},
   "outputs": [],
   "source": [
    "#deep learning\n",
    "\n",
    "import tensorflow as tf\n",
    "from tensorflow import keras\n",
    "from keras import optimizers\n",
    "from keras.layers import Conv2D, MaxPooling2D, GlobalAveragePooling2D\n",
    "from keras.layers import Dropout, Flatten, Dense\n",
    "from keras.models import Sequential\n",
    "from keras.callbacks import ReduceLROnPlateau"
   ]
  },
  {
   "cell_type": "code",
   "execution_count": null,
   "id": "324fd909",
   "metadata": {},
   "outputs": [],
   "source": [
    "#Classifier\n",
    "\n",
    "from sklearn.ensemble import RandomForestClassifier, GradientBoostingClassifier"
   ]
  },
  {
   "cell_type": "code",
   "execution_count": 58,
   "id": "ce0456e0",
   "metadata": {},
   "outputs": [],
   "source": [
    "#Model selection\n",
    "\n",
    "from sklearn.model_selection import train_test_split\n",
    "from sklearn.metrics import mean_absolute_error\n",
    "from sklearn.metrics import mean_squared_error\n",
    "from sklearn.metrics import r2_score\n",
    "from sklearn.model_selection import cross_validate\n",
    "from IPython.display import display"
   ]
  },
  {
   "cell_type": "markdown",
   "id": "c9cac0f3",
   "metadata": {},
   "source": [
    "# Import des données"
   ]
  },
  {
   "cell_type": "code",
   "execution_count": 4,
   "id": "f02d0e7c",
   "metadata": {},
   "outputs": [],
   "source": [
    "data = pd.read_csv('data/train.csv')\n",
    "test_data = pd.read_csv('data/test.csv')"
   ]
  },
  {
   "cell_type": "code",
   "execution_count": 5,
   "id": "329023fe",
   "metadata": {},
   "outputs": [
    {
     "data": {
      "text/html": [
       "<div>\n",
       "<style scoped>\n",
       "    .dataframe tbody tr th:only-of-type {\n",
       "        vertical-align: middle;\n",
       "    }\n",
       "\n",
       "    .dataframe tbody tr th {\n",
       "        vertical-align: top;\n",
       "    }\n",
       "\n",
       "    .dataframe thead th {\n",
       "        text-align: right;\n",
       "    }\n",
       "</style>\n",
       "<table border=\"1\" class=\"dataframe\">\n",
       "  <thead>\n",
       "    <tr style=\"text-align: right;\">\n",
       "      <th></th>\n",
       "      <th>id</th>\n",
       "      <th>keyword</th>\n",
       "      <th>location</th>\n",
       "      <th>text</th>\n",
       "      <th>target</th>\n",
       "    </tr>\n",
       "  </thead>\n",
       "  <tbody>\n",
       "    <tr>\n",
       "      <th>0</th>\n",
       "      <td>1</td>\n",
       "      <td>NaN</td>\n",
       "      <td>NaN</td>\n",
       "      <td>Our Deeds are the Reason of this #earthquake M...</td>\n",
       "      <td>1</td>\n",
       "    </tr>\n",
       "    <tr>\n",
       "      <th>1</th>\n",
       "      <td>4</td>\n",
       "      <td>NaN</td>\n",
       "      <td>NaN</td>\n",
       "      <td>Forest fire near La Ronge Sask. Canada</td>\n",
       "      <td>1</td>\n",
       "    </tr>\n",
       "    <tr>\n",
       "      <th>2</th>\n",
       "      <td>5</td>\n",
       "      <td>NaN</td>\n",
       "      <td>NaN</td>\n",
       "      <td>All residents asked to 'shelter in place' are ...</td>\n",
       "      <td>1</td>\n",
       "    </tr>\n",
       "    <tr>\n",
       "      <th>3</th>\n",
       "      <td>6</td>\n",
       "      <td>NaN</td>\n",
       "      <td>NaN</td>\n",
       "      <td>13,000 people receive #wildfires evacuation or...</td>\n",
       "      <td>1</td>\n",
       "    </tr>\n",
       "    <tr>\n",
       "      <th>4</th>\n",
       "      <td>7</td>\n",
       "      <td>NaN</td>\n",
       "      <td>NaN</td>\n",
       "      <td>Just got sent this photo from Ruby #Alaska as ...</td>\n",
       "      <td>1</td>\n",
       "    </tr>\n",
       "  </tbody>\n",
       "</table>\n",
       "</div>"
      ],
      "text/plain": [
       "   id keyword location                                               text  \\\n",
       "0   1     NaN      NaN  Our Deeds are the Reason of this #earthquake M...   \n",
       "1   4     NaN      NaN             Forest fire near La Ronge Sask. Canada   \n",
       "2   5     NaN      NaN  All residents asked to 'shelter in place' are ...   \n",
       "3   6     NaN      NaN  13,000 people receive #wildfires evacuation or...   \n",
       "4   7     NaN      NaN  Just got sent this photo from Ruby #Alaska as ...   \n",
       "\n",
       "   target  \n",
       "0       1  \n",
       "1       1  \n",
       "2       1  \n",
       "3       1  \n",
       "4       1  "
      ]
     },
     "execution_count": 5,
     "metadata": {},
     "output_type": "execute_result"
    }
   ],
   "source": [
    "data.head()"
   ]
  },
  {
   "cell_type": "code",
   "execution_count": 6,
   "id": "83b86943",
   "metadata": {},
   "outputs": [
    {
     "data": {
      "text/plain": [
       "(7613, 5)"
      ]
     },
     "execution_count": 6,
     "metadata": {},
     "output_type": "execute_result"
    }
   ],
   "source": [
    "data.shape"
   ]
  },
  {
   "cell_type": "code",
   "execution_count": 7,
   "id": "f9f14827",
   "metadata": {},
   "outputs": [
    {
     "data": {
      "text/plain": [
       "0    4342\n",
       "1    3271\n",
       "Name: target, dtype: int64"
      ]
     },
     "execution_count": 7,
     "metadata": {},
     "output_type": "execute_result"
    }
   ],
   "source": [
    "data['target'].value_counts()"
   ]
  },
  {
   "cell_type": "markdown",
   "id": "d1fb0401",
   "metadata": {},
   "source": [
    "### Split training data and validation data"
   ]
  },
  {
   "cell_type": "code",
   "execution_count": 8,
   "id": "6a51c9d7",
   "metadata": {},
   "outputs": [],
   "source": [
    "train_data, val_data = train_test_split(data, test_size=0.1)"
   ]
  },
  {
   "cell_type": "code",
   "execution_count": 9,
   "id": "42e6db19",
   "metadata": {},
   "outputs": [
    {
     "data": {
      "text/plain": [
       "(6851, 5)"
      ]
     },
     "execution_count": 9,
     "metadata": {},
     "output_type": "execute_result"
    }
   ],
   "source": [
    "train_data.shape"
   ]
  },
  {
   "cell_type": "code",
   "execution_count": 10,
   "id": "3339e823",
   "metadata": {},
   "outputs": [
    {
     "data": {
      "text/plain": [
       "(762, 5)"
      ]
     },
     "execution_count": 10,
     "metadata": {},
     "output_type": "execute_result"
    }
   ],
   "source": [
    "val_data.shape"
   ]
  },
  {
   "cell_type": "markdown",
   "id": "9eab1839",
   "metadata": {},
   "source": [
    "### Resetting index"
   ]
  },
  {
   "cell_type": "code",
   "execution_count": 11,
   "id": "108c4825",
   "metadata": {},
   "outputs": [],
   "source": [
    "train_data.reset_index(drop=True, inplace=True)"
   ]
  },
  {
   "cell_type": "code",
   "execution_count": 12,
   "id": "1f432925",
   "metadata": {},
   "outputs": [
    {
     "data": {
      "text/html": [
       "<div>\n",
       "<style scoped>\n",
       "    .dataframe tbody tr th:only-of-type {\n",
       "        vertical-align: middle;\n",
       "    }\n",
       "\n",
       "    .dataframe tbody tr th {\n",
       "        vertical-align: top;\n",
       "    }\n",
       "\n",
       "    .dataframe thead th {\n",
       "        text-align: right;\n",
       "    }\n",
       "</style>\n",
       "<table border=\"1\" class=\"dataframe\">\n",
       "  <thead>\n",
       "    <tr style=\"text-align: right;\">\n",
       "      <th></th>\n",
       "      <th>id</th>\n",
       "      <th>keyword</th>\n",
       "      <th>location</th>\n",
       "      <th>text</th>\n",
       "      <th>target</th>\n",
       "    </tr>\n",
       "  </thead>\n",
       "  <tbody>\n",
       "    <tr>\n",
       "      <th>0</th>\n",
       "      <td>6160</td>\n",
       "      <td>hijack</td>\n",
       "      <td>NaN</td>\n",
       "      <td>Swansea ?plot hijack transfer move for Southam...</td>\n",
       "      <td>0</td>\n",
       "    </tr>\n",
       "    <tr>\n",
       "      <th>1</th>\n",
       "      <td>6395</td>\n",
       "      <td>hurricane</td>\n",
       "      <td>New York</td>\n",
       "      <td>Bluedio Turbine Hurricane H Bluetooth 4.1 Wire...</td>\n",
       "      <td>0</td>\n",
       "    </tr>\n",
       "    <tr>\n",
       "      <th>2</th>\n",
       "      <td>2846</td>\n",
       "      <td>cyclone</td>\n",
       "      <td>Geneva</td>\n",
       "      <td>Blending the old with the new in #Vanuatu to p...</td>\n",
       "      <td>0</td>\n",
       "    </tr>\n",
       "    <tr>\n",
       "      <th>3</th>\n",
       "      <td>7644</td>\n",
       "      <td>pandemonium</td>\n",
       "      <td>NaN</td>\n",
       "      <td>http://t.co/PmHMmkSPaQ -PANDEMONIUM! Playstati...</td>\n",
       "      <td>0</td>\n",
       "    </tr>\n",
       "    <tr>\n",
       "      <th>4</th>\n",
       "      <td>6391</td>\n",
       "      <td>hurricane</td>\n",
       "      <td>Haiku, Maui, Hawaii</td>\n",
       "      <td>HURRICANE GUILLERMO LIVE NOAA TRACKING / LOOPI...</td>\n",
       "      <td>1</td>\n",
       "    </tr>\n",
       "  </tbody>\n",
       "</table>\n",
       "</div>"
      ],
      "text/plain": [
       "     id      keyword             location  \\\n",
       "0  6160       hijack                  NaN   \n",
       "1  6395    hurricane             New York   \n",
       "2  2846      cyclone               Geneva   \n",
       "3  7644  pandemonium                  NaN   \n",
       "4  6391    hurricane  Haiku, Maui, Hawaii   \n",
       "\n",
       "                                                text  target  \n",
       "0  Swansea ?plot hijack transfer move for Southam...       0  \n",
       "1  Bluedio Turbine Hurricane H Bluetooth 4.1 Wire...       0  \n",
       "2  Blending the old with the new in #Vanuatu to p...       0  \n",
       "3  http://t.co/PmHMmkSPaQ -PANDEMONIUM! Playstati...       0  \n",
       "4  HURRICANE GUILLERMO LIVE NOAA TRACKING / LOOPI...       1  "
      ]
     },
     "execution_count": 12,
     "metadata": {},
     "output_type": "execute_result"
    }
   ],
   "source": [
    "train_data.head()"
   ]
  },
  {
   "cell_type": "code",
   "execution_count": 13,
   "id": "b04e231e",
   "metadata": {},
   "outputs": [],
   "source": [
    "val_data.reset_index(drop=True, inplace=True)"
   ]
  },
  {
   "cell_type": "markdown",
   "id": "8f527c53",
   "metadata": {},
   "source": [
    "### Separating X and target"
   ]
  },
  {
   "cell_type": "code",
   "execution_count": 14,
   "id": "2facf0d7",
   "metadata": {},
   "outputs": [],
   "source": [
    "X_train = train_data['text']"
   ]
  },
  {
   "cell_type": "code",
   "execution_count": 15,
   "id": "e1191684",
   "metadata": {},
   "outputs": [],
   "source": [
    "y_train = train_data['target']"
   ]
  },
  {
   "cell_type": "code",
   "execution_count": 16,
   "id": "6d794d80",
   "metadata": {},
   "outputs": [],
   "source": [
    "X_val = val_data['text']"
   ]
  },
  {
   "cell_type": "code",
   "execution_count": 17,
   "id": "0139e1fd",
   "metadata": {},
   "outputs": [],
   "source": [
    "y_val = val_data['target']"
   ]
  },
  {
   "cell_type": "markdown",
   "id": "ad2d9a52",
   "metadata": {},
   "source": [
    "# Data Engineering"
   ]
  },
  {
   "cell_type": "code",
   "execution_count": 77,
   "id": "86d9eefa",
   "metadata": {},
   "outputs": [
    {
     "data": {
      "text/html": [
       "<div>\n",
       "<style scoped>\n",
       "    .dataframe tbody tr th:only-of-type {\n",
       "        vertical-align: middle;\n",
       "    }\n",
       "\n",
       "    .dataframe tbody tr th {\n",
       "        vertical-align: top;\n",
       "    }\n",
       "\n",
       "    .dataframe thead th {\n",
       "        text-align: right;\n",
       "    }\n",
       "</style>\n",
       "<table border=\"1\" class=\"dataframe\">\n",
       "  <thead>\n",
       "    <tr style=\"text-align: right;\">\n",
       "      <th></th>\n",
       "      <th>id</th>\n",
       "      <th>keyword</th>\n",
       "      <th>location</th>\n",
       "      <th>text</th>\n",
       "      <th>target</th>\n",
       "    </tr>\n",
       "  </thead>\n",
       "  <tbody>\n",
       "    <tr>\n",
       "      <th>0</th>\n",
       "      <td>1</td>\n",
       "      <td>NaN</td>\n",
       "      <td>NaN</td>\n",
       "      <td>Our Deeds are the Reason of this #earthquake M...</td>\n",
       "      <td>1</td>\n",
       "    </tr>\n",
       "    <tr>\n",
       "      <th>1</th>\n",
       "      <td>4</td>\n",
       "      <td>NaN</td>\n",
       "      <td>NaN</td>\n",
       "      <td>Forest fire near La Ronge Sask. Canada</td>\n",
       "      <td>1</td>\n",
       "    </tr>\n",
       "    <tr>\n",
       "      <th>2</th>\n",
       "      <td>5</td>\n",
       "      <td>NaN</td>\n",
       "      <td>NaN</td>\n",
       "      <td>All residents asked to 'shelter in place' are ...</td>\n",
       "      <td>1</td>\n",
       "    </tr>\n",
       "    <tr>\n",
       "      <th>3</th>\n",
       "      <td>6</td>\n",
       "      <td>NaN</td>\n",
       "      <td>NaN</td>\n",
       "      <td>13,000 people receive #wildfires evacuation or...</td>\n",
       "      <td>1</td>\n",
       "    </tr>\n",
       "    <tr>\n",
       "      <th>4</th>\n",
       "      <td>7</td>\n",
       "      <td>NaN</td>\n",
       "      <td>NaN</td>\n",
       "      <td>Just got sent this photo from Ruby #Alaska as ...</td>\n",
       "      <td>1</td>\n",
       "    </tr>\n",
       "  </tbody>\n",
       "</table>\n",
       "</div>"
      ],
      "text/plain": [
       "   id keyword location                                               text  \\\n",
       "0   1     NaN      NaN  Our Deeds are the Reason of this #earthquake M...   \n",
       "1   4     NaN      NaN             Forest fire near La Ronge Sask. Canada   \n",
       "2   5     NaN      NaN  All residents asked to 'shelter in place' are ...   \n",
       "3   6     NaN      NaN  13,000 people receive #wildfires evacuation or...   \n",
       "4   7     NaN      NaN  Just got sent this photo from Ruby #Alaska as ...   \n",
       "\n",
       "   target  \n",
       "0       1  \n",
       "1       1  \n",
       "2       1  \n",
       "3       1  \n",
       "4       1  "
      ]
     },
     "execution_count": 77,
     "metadata": {},
     "output_type": "execute_result"
    }
   ],
   "source": [
    "data.head()"
   ]
  },
  {
   "cell_type": "code",
   "execution_count": 76,
   "id": "6a1775b7",
   "metadata": {},
   "outputs": [
    {
     "data": {
      "text/plain": [
       "61"
      ]
     },
     "execution_count": 76,
     "metadata": {},
     "output_type": "execute_result"
    }
   ],
   "source": [
    "data.keyword.isna().sum()"
   ]
  },
  {
   "cell_type": "code",
   "execution_count": 78,
   "id": "1f450710",
   "metadata": {},
   "outputs": [
    {
     "data": {
      "text/plain": [
       "2533"
      ]
     },
     "execution_count": 78,
     "metadata": {},
     "output_type": "execute_result"
    }
   ],
   "source": [
    "data.location.isna().sum()"
   ]
  },
  {
   "cell_type": "code",
   "execution_count": null,
   "id": "7fdc1c35",
   "metadata": {},
   "outputs": [],
   "source": [
    "## TO DO ?"
   ]
  },
  {
   "cell_type": "code",
   "execution_count": null,
   "id": "963b6d27",
   "metadata": {},
   "outputs": [],
   "source": []
  },
  {
   "cell_type": "code",
   "execution_count": null,
   "id": "e1e9f3ea",
   "metadata": {},
   "outputs": [],
   "source": [
    "l_full_text = []\n",
    "\n",
    "for i in range(data.shape[0]):\n",
    "    full_text = data['text'][i]\n",
    "    if str(data['keyword'][i]) != 'nan':\n",
    "        full_text += f' #{data[\"keyword\"][i]}'\n",
    "    if str(data['location'][i]) != 'nan':\n",
    "        full_text += f' #{data[\"location\"][i]}'\n",
    "\n",
    "    l_full_text.append(full_text)"
   ]
  },
  {
   "cell_type": "code",
   "execution_count": null,
   "id": "78efc842",
   "metadata": {},
   "outputs": [],
   "source": [
    "data['full_text'] = pd.Series(l_full_text)"
   ]
  },
  {
   "cell_type": "code",
   "execution_count": null,
   "id": "df2344d0",
   "metadata": {},
   "outputs": [],
   "source": [
    "data.head()"
   ]
  },
  {
   "cell_type": "markdown",
   "id": "510950d8",
   "metadata": {},
   "source": [
    "# Sentence Embeddings"
   ]
  },
  {
   "cell_type": "code",
   "execution_count": 18,
   "id": "eada19d2",
   "metadata": {},
   "outputs": [],
   "source": [
    "transformer = SentenceTransformer('sentence-transformers/all-mpnet-base-v2')"
   ]
  },
  {
   "cell_type": "code",
   "execution_count": 19,
   "id": "3025db27",
   "metadata": {},
   "outputs": [],
   "source": [
    "embeddings = transformer.encode(X_train)"
   ]
  },
  {
   "cell_type": "code",
   "execution_count": 20,
   "id": "a6e42f7a",
   "metadata": {},
   "outputs": [
    {
     "data": {
      "text/plain": [
       "(6851, 768)"
      ]
     },
     "execution_count": 20,
     "metadata": {},
     "output_type": "execute_result"
    }
   ],
   "source": [
    "embeddings.shape"
   ]
  },
  {
   "cell_type": "code",
   "execution_count": 21,
   "id": "a0ae147b",
   "metadata": {},
   "outputs": [],
   "source": [
    "val_embeddings = transformer.encode(X_val)"
   ]
  },
  {
   "cell_type": "markdown",
   "id": "647e12a4",
   "metadata": {},
   "source": [
    "# Deep Learning Model"
   ]
  },
  {
   "cell_type": "markdown",
   "id": "d5b1398d",
   "metadata": {},
   "source": [
    "### Convert embeddings and target to tensors"
   ]
  },
  {
   "cell_type": "code",
   "execution_count": 22,
   "id": "a22c4583",
   "metadata": {},
   "outputs": [
    {
     "name": "stdout",
     "output_type": "stream",
     "text": [
      "Metal device set to: Apple M1\n"
     ]
    },
    {
     "name": "stderr",
     "output_type": "stream",
     "text": [
      "2022-08-17 12:52:57.655319: I tensorflow/core/common_runtime/pluggable_device/pluggable_device_factory.cc:305] Could not identify NUMA node of platform GPU ID 0, defaulting to 0. Your kernel may not have been built with NUMA support.\n",
      "2022-08-17 12:52:57.655436: I tensorflow/core/common_runtime/pluggable_device/pluggable_device_factory.cc:271] Created TensorFlow device (/job:localhost/replica:0/task:0/device:GPU:0 with 0 MB memory) -> physical PluggableDevice (device: 0, name: METAL, pci bus id: <undefined>)\n"
     ]
    }
   ],
   "source": [
    "tensor_embeddings = tf.convert_to_tensor(embeddings)\n",
    "tensor_y = tf.convert_to_tensor(y_train)"
   ]
  },
  {
   "cell_type": "code",
   "execution_count": 23,
   "id": "3e7b17f9",
   "metadata": {},
   "outputs": [
    {
     "data": {
      "text/plain": [
       "TensorShape([6851, 768])"
      ]
     },
     "execution_count": 23,
     "metadata": {},
     "output_type": "execute_result"
    }
   ],
   "source": [
    "tensor_embeddings.shape"
   ]
  },
  {
   "cell_type": "code",
   "execution_count": 24,
   "id": "0444a96a",
   "metadata": {},
   "outputs": [
    {
     "data": {
      "text/plain": [
       "TensorShape([6851])"
      ]
     },
     "execution_count": 24,
     "metadata": {},
     "output_type": "execute_result"
    }
   ],
   "source": [
    "tensor_y.shape"
   ]
  },
  {
   "cell_type": "code",
   "execution_count": 25,
   "id": "ede12669",
   "metadata": {},
   "outputs": [],
   "source": [
    "tensor_val_embeddings = tf.convert_to_tensor(val_embeddings)\n",
    "tensor_val_y = tf.convert_to_tensor(y_val)"
   ]
  },
  {
   "cell_type": "markdown",
   "id": "21cd82a7",
   "metadata": {},
   "source": [
    "### Define model architecture"
   ]
  },
  {
   "cell_type": "code",
   "execution_count": 26,
   "id": "cfe1e241",
   "metadata": {},
   "outputs": [],
   "source": [
    "learning_rate_reduction = ReduceLROnPlateau(monitor='val_accuracy', \n",
    "                                            patience=2, \n",
    "                                            verbose=1, \n",
    "                                            factor=0.5, \n",
    "                                            min_lr=0.00001)"
   ]
  },
  {
   "cell_type": "code",
   "execution_count": 27,
   "id": "ff15ab31",
   "metadata": {},
   "outputs": [],
   "source": [
    "optimizer = optimizers.RMSprop(learning_rate=0.001, rho=0.9, epsilon=None, decay=0.0)"
   ]
  },
  {
   "cell_type": "code",
   "execution_count": 28,
   "id": "397f8ffd",
   "metadata": {},
   "outputs": [],
   "source": [
    "model = Sequential()\n",
    "\n",
    "# Define model architecture.\n",
    "model.add(Dense(1024, input_shape=(768,), activation='relu'))\n",
    "model.add(Dense(256, activation='relu'))\n",
    "model.add(Dense(64, activation='relu'))\n",
    "model.add(Dense(1, activation='sigmoid'))"
   ]
  },
  {
   "cell_type": "code",
   "execution_count": 29,
   "id": "e09ac0bb",
   "metadata": {},
   "outputs": [
    {
     "name": "stdout",
     "output_type": "stream",
     "text": [
      "Model: \"sequential\"\n",
      "_________________________________________________________________\n",
      " Layer (type)                Output Shape              Param #   \n",
      "=================================================================\n",
      " dense (Dense)               (None, 1024)              787456    \n",
      "                                                                 \n",
      " dense_1 (Dense)             (None, 256)               262400    \n",
      "                                                                 \n",
      " dense_2 (Dense)             (None, 64)                16448     \n",
      "                                                                 \n",
      " dense_3 (Dense)             (None, 1)                 65        \n",
      "                                                                 \n",
      "=================================================================\n",
      "Total params: 1,066,369\n",
      "Trainable params: 1,066,369\n",
      "Non-trainable params: 0\n",
      "_________________________________________________________________\n"
     ]
    }
   ],
   "source": [
    "model.summary()"
   ]
  },
  {
   "cell_type": "code",
   "execution_count": 30,
   "id": "7c4ea018",
   "metadata": {},
   "outputs": [],
   "source": [
    "model.compile(\n",
    "    optimizer=optimizer,\n",
    "    loss='binary_crossentropy',\n",
    "    metrics=['accuracy']\n",
    "    )"
   ]
  },
  {
   "cell_type": "markdown",
   "id": "9431dccc",
   "metadata": {},
   "source": [
    "### Training and performances visualization"
   ]
  },
  {
   "cell_type": "code",
   "execution_count": 31,
   "id": "39b13247",
   "metadata": {},
   "outputs": [
    {
     "name": "stderr",
     "output_type": "stream",
     "text": [
      "2022-08-17 12:52:57.858777: W tensorflow/core/platform/profile_utils/cpu_utils.cc:128] Failed to get CPU frequency: 0 Hz\n"
     ]
    },
    {
     "name": "stdout",
     "output_type": "stream",
     "text": [
      "Epoch 1/10\n"
     ]
    },
    {
     "name": "stderr",
     "output_type": "stream",
     "text": [
      "2022-08-17 12:52:58.125491: I tensorflow/core/grappler/optimizers/custom_graph_optimizer_registry.cc:113] Plugin optimizer for device_type GPU is enabled.\n"
     ]
    },
    {
     "name": "stdout",
     "output_type": "stream",
     "text": [
      "6851/6851 [==============================] - ETA: 0s - loss: 0.5150 - accuracy: 0.8066"
     ]
    },
    {
     "name": "stderr",
     "output_type": "stream",
     "text": [
      "2022-08-17 12:53:47.638447: I tensorflow/core/grappler/optimizers/custom_graph_optimizer_registry.cc:113] Plugin optimizer for device_type GPU is enabled.\n"
     ]
    },
    {
     "name": "stdout",
     "output_type": "stream",
     "text": [
      "6851/6851 [==============================] - 52s 7ms/step - loss: 0.5150 - accuracy: 0.8066 - val_loss: 0.5945 - val_accuracy: 0.8268 - lr: 0.0010\n",
      "Epoch 2/10\n",
      "6851/6851 [==============================] - 51s 7ms/step - loss: 0.5170 - accuracy: 0.8345 - val_loss: 0.8262 - val_accuracy: 0.8268 - lr: 0.0010\n",
      "Epoch 3/10\n",
      "6847/6851 [============================>.] - ETA: 0s - loss: 0.5126 - accuracy: 0.8426\n",
      "Epoch 3: ReduceLROnPlateau reducing learning rate to 0.0005000000237487257.\n",
      "6851/6851 [==============================] - 51s 7ms/step - loss: 0.5125 - accuracy: 0.8427 - val_loss: 1.1347 - val_accuracy: 0.8189 - lr: 0.0010\n",
      "Epoch 4/10\n",
      "6851/6851 [==============================] - 51s 7ms/step - loss: 0.4458 - accuracy: 0.8542 - val_loss: 1.3842 - val_accuracy: 0.8189 - lr: 5.0000e-04\n",
      "Epoch 5/10\n",
      "6848/6851 [============================>.] - ETA: 0s - loss: 0.4090 - accuracy: 0.8616\n",
      "Epoch 5: ReduceLROnPlateau reducing learning rate to 0.0002500000118743628.\n",
      "6851/6851 [==============================] - 51s 7ms/step - loss: 0.4089 - accuracy: 0.8616 - val_loss: 1.1085 - val_accuracy: 0.8110 - lr: 5.0000e-04\n",
      "Epoch 6/10\n",
      "6851/6851 [==============================] - 51s 7ms/step - loss: 0.3707 - accuracy: 0.8751 - val_loss: 0.9570 - val_accuracy: 0.8163 - lr: 2.5000e-04\n",
      "Epoch 7/10\n",
      "6845/6851 [============================>.] - ETA: 0s - loss: 0.3481 - accuracy: 0.8822\n",
      "Epoch 7: ReduceLROnPlateau reducing learning rate to 0.0001250000059371814.\n",
      "6851/6851 [==============================] - 51s 8ms/step - loss: 0.3481 - accuracy: 0.8822 - val_loss: 1.2967 - val_accuracy: 0.7953 - lr: 2.5000e-04\n",
      "Epoch 8/10\n",
      "6851/6851 [==============================] - 51s 8ms/step - loss: 0.3102 - accuracy: 0.8945 - val_loss: 1.2287 - val_accuracy: 0.7927 - lr: 1.2500e-04\n",
      "Epoch 9/10\n",
      "6845/6851 [============================>.] - ETA: 0s - loss: 0.2953 - accuracy: 0.8998\n",
      "Epoch 9: ReduceLROnPlateau reducing learning rate to 6.25000029685907e-05.\n",
      "6851/6851 [==============================] - 51s 8ms/step - loss: 0.2953 - accuracy: 0.8999 - val_loss: 1.2652 - val_accuracy: 0.7927 - lr: 1.2500e-04\n",
      "Epoch 10/10\n",
      "6851/6851 [==============================] - 51s 8ms/step - loss: 0.2686 - accuracy: 0.9094 - val_loss: 1.5281 - val_accuracy: 0.7848 - lr: 6.2500e-05\n"
     ]
    }
   ],
   "source": [
    "history = model.fit(\n",
    "    x=tensor_embeddings,\n",
    "    y=tensor_y,\n",
    "    batch_size=1,\n",
    "    validation_data=(tensor_val_embeddings, tensor_val_y),\n",
    "    callbacks=[learning_rate_reduction],\n",
    "    epochs = 10)"
   ]
  },
  {
   "cell_type": "code",
   "execution_count": 32,
   "id": "b54d8b96",
   "metadata": {},
   "outputs": [],
   "source": [
    "def plot_training_results(history, model_name):\n",
    "    \n",
    "    fig, (ax_loss, ax_acc) = plt.subplots(1, 2, figsize=(15,5))\n",
    "    \n",
    "    epochs_nb = history.params['epochs']\n",
    "    \n",
    "    ax_loss.plot(history.epoch, history.history[\"loss\"], label=\"Train loss\")\n",
    "    ax_loss.plot(history.epoch, history.history[\"val_loss\"], label=\"Validation loss\")\n",
    "    ax_loss.set_title(f'Loss history of {model_name} over {epochs_nb} epochs')\n",
    "    ax_loss.set_xlabel('Number of epochs')\n",
    "    ax_loss.set_ylabel('Loss')\n",
    "    ax_loss.legend()\n",
    "    \n",
    "    ax_acc.plot(history.epoch, history.history[\"accuracy\"], label=\"Train accuracy\")\n",
    "    ax_acc.plot(history.epoch, history.history[\"val_accuracy\"], label=\"Validation accuracy\")\n",
    "    ax_acc.set_title(f'Accuracy history of {model_name} over {epochs_nb} epochs')\n",
    "    ax_acc.set_xlabel('Number of epochs')\n",
    "    ax_acc.set_ylabel('Accuracy')\n",
    "    ax_acc.legend()"
   ]
  },
  {
   "cell_type": "code",
   "execution_count": 33,
   "id": "eb76eb5e",
   "metadata": {},
   "outputs": [
    {
     "data": {
      "image/png": "[encoded data removed]",
      "text/plain": [
       "<Figure size 1080x360 with 2 Axes>"
      ]
     },
     "metadata": {
      "needs_background": "light"
     },
     "output_type": "display_data"
    }
   ],
   "source": [
    "plot_training_results(history, 'basic_model')"
   ]
  },
  {
   "cell_type": "code",
   "execution_count": 34,
   "id": "7302b275",
   "metadata": {},
   "outputs": [],
   "source": [
    "#OVERFITTING ?"
   ]
  },
  {
   "cell_type": "markdown",
   "id": "ebcfe83a",
   "metadata": {},
   "source": [
    "# Classifier approaches "
   ]
  },
  {
   "cell_type": "markdown",
   "id": "8d0945c5",
   "metadata": {},
   "source": [
    "### RandomForestClassifier"
   ]
  },
  {
   "cell_type": "code",
   "execution_count": 39,
   "id": "fc32d112",
   "metadata": {},
   "outputs": [],
   "source": [
    "rfc = RandomForestClassifier(verbose=1)"
   ]
  },
  {
   "cell_type": "code",
   "execution_count": 40,
   "id": "0b2b71c0",
   "metadata": {},
   "outputs": [
    {
     "name": "stderr",
     "output_type": "stream",
     "text": [
      "[Parallel(n_jobs=1)]: Using backend SequentialBackend with 1 concurrent workers.\n",
      "[Parallel(n_jobs=1)]: Done 100 out of 100 | elapsed:   16.3s finished\n"
     ]
    },
    {
     "data": {
      "text/html": [
       "<style>#sk-container-id-1 {color: black;background-color: white;}#sk-container-id-1 pre{padding: 0;}#sk-container-id-1 div.sk-toggleable {background-color: white;}#sk-container-id-1 label.sk-toggleable__label {cursor: pointer;display: block;width: 100%;margin-bottom: 0;padding: 0.3em;box-sizing: border-box;text-align: center;}#sk-container-id-1 label.sk-toggleable__label-arrow:before {content: \"▸\";float: left;margin-right: 0.25em;color: #696969;}#sk-container-id-1 label.sk-toggleable__label-arrow:hover:before {color: black;}#sk-container-id-1 div.sk-estimator:hover label.sk-toggleable__label-arrow:before {color: black;}#sk-container-id-1 div.sk-toggleable__content {max-height: 0;max-width: 0;overflow: hidden;text-align: left;background-color: #f0f8ff;}#sk-container-id-1 div.sk-toggleable__content pre {margin: 0.2em;color: black;border-radius: 0.25em;background-color: #f0f8ff;}#sk-container-id-1 input.sk-toggleable__control:checked~div.sk-toggleable__content {max-height: 200px;max-width: 100%;overflow: auto;}#sk-container-id-1 input.sk-toggleable__control:checked~label.sk-toggleable__label-arrow:before {content: \"▾\";}#sk-container-id-1 div.sk-estimator input.sk-toggleable__control:checked~label.sk-toggleable__label {background-color: #d4ebff;}#sk-container-id-1 div.sk-label input.sk-toggleable__control:checked~label.sk-toggleable__label {background-color: #d4ebff;}#sk-container-id-1 input.sk-hidden--visually {border: 0;clip: rect(1px 1px 1px 1px);clip: rect(1px, 1px, 1px, 1px);height: 1px;margin: -1px;overflow: hidden;padding: 0;position: absolute;width: 1px;}#sk-container-id-1 div.sk-estimator {font-family: monospace;background-color: #f0f8ff;border: 1px dotted black;border-radius: 0.25em;box-sizing: border-box;margin-bottom: 0.5em;}#sk-container-id-1 div.sk-estimator:hover {background-color: #d4ebff;}#sk-container-id-1 div.sk-parallel-item::after {content: \"\";width: 100%;border-bottom: 1px solid gray;flex-grow: 1;}#sk-container-id-1 div.sk-label:hover label.sk-toggleable__label {background-color: #d4ebff;}#sk-container-id-1 div.sk-serial::before {content: \"\";position: absolute;border-left: 1px solid gray;box-sizing: border-box;top: 0;bottom: 0;left: 50%;z-index: 0;}#sk-container-id-1 div.sk-serial {display: flex;flex-direction: column;align-items: center;background-color: white;padding-right: 0.2em;padding-left: 0.2em;position: relative;}#sk-container-id-1 div.sk-item {position: relative;z-index: 1;}#sk-container-id-1 div.sk-parallel {display: flex;align-items: stretch;justify-content: center;background-color: white;position: relative;}#sk-container-id-1 div.sk-item::before, #sk-container-id-1 div.sk-parallel-item::before {content: \"\";position: absolute;border-left: 1px solid gray;box-sizing: border-box;top: 0;bottom: 0;left: 50%;z-index: -1;}#sk-container-id-1 div.sk-parallel-item {display: flex;flex-direction: column;z-index: 1;position: relative;background-color: white;}#sk-container-id-1 div.sk-parallel-item:first-child::after {align-self: flex-end;width: 50%;}#sk-container-id-1 div.sk-parallel-item:last-child::after {align-self: flex-start;width: 50%;}#sk-container-id-1 div.sk-parallel-item:only-child::after {width: 0;}#sk-container-id-1 div.sk-dashed-wrapped {border: 1px dashed gray;margin: 0 0.4em 0.5em 0.4em;box-sizing: border-box;padding-bottom: 0.4em;background-color: white;}#sk-container-id-1 div.sk-label label {font-family: monospace;font-weight: bold;display: inline-block;line-height: 1.2em;}#sk-container-id-1 div.sk-label-container {text-align: center;}#sk-container-id-1 div.sk-container {/* jupyter's `normalize.less` sets `[hidden] { display: none; }` but bootstrap.min.css set `[hidden] { display: none !important; }` so we also need the `!important` here to be able to override the default hidden behavior on the sphinx rendered scikit-learn.org. See: https://github.com/scikit-learn/scikit-learn/issues/21755 */display: inline-block !important;position: relative;}#sk-container-id-1 div.sk-text-repr-fallback {display: none;}</style><div id=\"sk-container-id-1\" class=\"sk-top-container\"><div class=\"sk-text-repr-fallback\"><pre>RandomForestClassifier(verbose=1)</pre><b>In a Jupyter environment, please rerun this cell to show the HTML representation or trust the notebook. <br />On GitHub, the HTML representation is unable to render, please try loading this page with nbviewer.org.</b></div><div class=\"sk-container\" hidden><div class=\"sk-item\"><div class=\"sk-estimator sk-toggleable\"><input class=\"sk-toggleable__control sk-hidden--visually\" id=\"sk-estimator-id-1\" type=\"checkbox\" checked><label for=\"sk-estimator-id-1\" class=\"sk-toggleable__label sk-toggleable__label-arrow\">RandomForestClassifier</label><div class=\"sk-toggleable__content\"><pre>RandomForestClassifier(verbose=1)</pre></div></div></div></div></div>"
      ],
      "text/plain": [
       "RandomForestClassifier(verbose=1)"
      ]
     },
     "execution_count": 40,
     "metadata": {},
     "output_type": "execute_result"
    }
   ],
   "source": [
    "rfc.fit(embeddings, y_train)"
   ]
  },
  {
   "cell_type": "code",
   "execution_count": 41,
   "id": "3702802c",
   "metadata": {},
   "outputs": [
    {
     "name": "stderr",
     "output_type": "stream",
     "text": [
      "[Parallel(n_jobs=1)]: Using backend SequentialBackend with 1 concurrent workers.\n",
      "[Parallel(n_jobs=1)]: Done 100 out of 100 | elapsed:    0.1s finished\n"
     ]
    },
    {
     "data": {
      "text/plain": [
       "0.9976645745146694"
      ]
     },
     "execution_count": 41,
     "metadata": {},
     "output_type": "execute_result"
    }
   ],
   "source": [
    "rfc.score(embeddings, y_train)"
   ]
  },
  {
   "cell_type": "code",
   "execution_count": 42,
   "id": "6ac9c2df",
   "metadata": {},
   "outputs": [
    {
     "name": "stderr",
     "output_type": "stream",
     "text": [
      "[Parallel(n_jobs=1)]: Using backend SequentialBackend with 1 concurrent workers.\n",
      "[Parallel(n_jobs=1)]: Done 100 out of 100 | elapsed:    0.0s finished\n"
     ]
    },
    {
     "data": {
      "text/plain": [
       "0.8162729658792651"
      ]
     },
     "execution_count": 42,
     "metadata": {},
     "output_type": "execute_result"
    }
   ],
   "source": [
    "rfc.score(val_embeddings, y_val)"
   ]
  },
  {
   "cell_type": "markdown",
   "id": "6b2887e7",
   "metadata": {},
   "source": [
    "### GradientBoostingClassifier"
   ]
  },
  {
   "cell_type": "code",
   "execution_count": 43,
   "id": "8dce36cc",
   "metadata": {},
   "outputs": [],
   "source": [
    "gbc = GradientBoostingClassifier(verbose=1)"
   ]
  },
  {
   "cell_type": "code",
   "execution_count": 44,
   "id": "0af757f1",
   "metadata": {},
   "outputs": [
    {
     "name": "stdout",
     "output_type": "stream",
     "text": [
      "      Iter       Train Loss   Remaining Time \n",
      "         1           1.3195            2.79m\n",
      "         2           1.2791            2.76m\n",
      "         3           1.2445            2.73m\n",
      "         4           1.2125            2.71m\n",
      "         5           1.1840            2.69m\n",
      "         6           1.1581            2.66m\n",
      "         7           1.1333            2.63m\n",
      "         8           1.1108            2.60m\n",
      "         9           1.0908            2.57m\n",
      "        10           1.0718            2.54m\n",
      "        20           0.9367            2.26m\n",
      "        30           0.8552            1.98m\n",
      "        40           0.7995            1.70m\n",
      "        50           0.7574            1.42m\n",
      "        60           0.7226            1.14m\n",
      "        70           0.6948           51.39s\n",
      "        80           0.6718           34.36s\n",
      "        90           0.6517           17.23s\n",
      "       100           0.6336            0.00s\n"
     ]
    },
    {
     "data": {
      "text/html": [
       "<style>#sk-container-id-2 {color: black;background-color: white;}#sk-container-id-2 pre{padding: 0;}#sk-container-id-2 div.sk-toggleable {background-color: white;}#sk-container-id-2 label.sk-toggleable__label {cursor: pointer;display: block;width: 100%;margin-bottom: 0;padding: 0.3em;box-sizing: border-box;text-align: center;}#sk-container-id-2 label.sk-toggleable__label-arrow:before {content: \"▸\";float: left;margin-right: 0.25em;color: #696969;}#sk-container-id-2 label.sk-toggleable__label-arrow:hover:before {color: black;}#sk-container-id-2 div.sk-estimator:hover label.sk-toggleable__label-arrow:before {color: black;}#sk-container-id-2 div.sk-toggleable__content {max-height: 0;max-width: 0;overflow: hidden;text-align: left;background-color: #f0f8ff;}#sk-container-id-2 div.sk-toggleable__content pre {margin: 0.2em;color: black;border-radius: 0.25em;background-color: #f0f8ff;}#sk-container-id-2 input.sk-toggleable__control:checked~div.sk-toggleable__content {max-height: 200px;max-width: 100%;overflow: auto;}#sk-container-id-2 input.sk-toggleable__control:checked~label.sk-toggleable__label-arrow:before {content: \"▾\";}#sk-container-id-2 div.sk-estimator input.sk-toggleable__control:checked~label.sk-toggleable__label {background-color: #d4ebff;}#sk-container-id-2 div.sk-label input.sk-toggleable__control:checked~label.sk-toggleable__label {background-color: #d4ebff;}#sk-container-id-2 input.sk-hidden--visually {border: 0;clip: rect(1px 1px 1px 1px);clip: rect(1px, 1px, 1px, 1px);height: 1px;margin: -1px;overflow: hidden;padding: 0;position: absolute;width: 1px;}#sk-container-id-2 div.sk-estimator {font-family: monospace;background-color: #f0f8ff;border: 1px dotted black;border-radius: 0.25em;box-sizing: border-box;margin-bottom: 0.5em;}#sk-container-id-2 div.sk-estimator:hover {background-color: #d4ebff;}#sk-container-id-2 div.sk-parallel-item::after {content: \"\";width: 100%;border-bottom: 1px solid gray;flex-grow: 1;}#sk-container-id-2 div.sk-label:hover label.sk-toggleable__label {background-color: #d4ebff;}#sk-container-id-2 div.sk-serial::before {content: \"\";position: absolute;border-left: 1px solid gray;box-sizing: border-box;top: 0;bottom: 0;left: 50%;z-index: 0;}#sk-container-id-2 div.sk-serial {display: flex;flex-direction: column;align-items: center;background-color: white;padding-right: 0.2em;padding-left: 0.2em;position: relative;}#sk-container-id-2 div.sk-item {position: relative;z-index: 1;}#sk-container-id-2 div.sk-parallel {display: flex;align-items: stretch;justify-content: center;background-color: white;position: relative;}#sk-container-id-2 div.sk-item::before, #sk-container-id-2 div.sk-parallel-item::before {content: \"\";position: absolute;border-left: 1px solid gray;box-sizing: border-box;top: 0;bottom: 0;left: 50%;z-index: -1;}#sk-container-id-2 div.sk-parallel-item {display: flex;flex-direction: column;z-index: 1;position: relative;background-color: white;}#sk-container-id-2 div.sk-parallel-item:first-child::after {align-self: flex-end;width: 50%;}#sk-container-id-2 div.sk-parallel-item:last-child::after {align-self: flex-start;width: 50%;}#sk-container-id-2 div.sk-parallel-item:only-child::after {width: 0;}#sk-container-id-2 div.sk-dashed-wrapped {border: 1px dashed gray;margin: 0 0.4em 0.5em 0.4em;box-sizing: border-box;padding-bottom: 0.4em;background-color: white;}#sk-container-id-2 div.sk-label label {font-family: monospace;font-weight: bold;display: inline-block;line-height: 1.2em;}#sk-container-id-2 div.sk-label-container {text-align: center;}#sk-container-id-2 div.sk-container {/* jupyter's `normalize.less` sets `[hidden] { display: none; }` but bootstrap.min.css set `[hidden] { display: none !important; }` so we also need the `!important` here to be able to override the default hidden behavior on the sphinx rendered scikit-learn.org. See: https://github.com/scikit-learn/scikit-learn/issues/21755 */display: inline-block !important;position: relative;}#sk-container-id-2 div.sk-text-repr-fallback {display: none;}</style><div id=\"sk-container-id-2\" class=\"sk-top-container\"><div class=\"sk-text-repr-fallback\"><pre>GradientBoostingClassifier(verbose=1)</pre><b>In a Jupyter environment, please rerun this cell to show the HTML representation or trust the notebook. <br />On GitHub, the HTML representation is unable to render, please try loading this page with nbviewer.org.</b></div><div class=\"sk-container\" hidden><div class=\"sk-item\"><div class=\"sk-estimator sk-toggleable\"><input class=\"sk-toggleable__control sk-hidden--visually\" id=\"sk-estimator-id-2\" type=\"checkbox\" checked><label for=\"sk-estimator-id-2\" class=\"sk-toggleable__label sk-toggleable__label-arrow\">GradientBoostingClassifier</label><div class=\"sk-toggleable__content\"><pre>GradientBoostingClassifier(verbose=1)</pre></div></div></div></div></div>"
      ],
      "text/plain": [
       "GradientBoostingClassifier(verbose=1)"
      ]
     },
     "execution_count": 44,
     "metadata": {},
     "output_type": "execute_result"
    }
   ],
   "source": [
    "gbc.fit(embeddings, y_train)"
   ]
  },
  {
   "cell_type": "code",
   "execution_count": 45,
   "id": "0c99eb4a",
   "metadata": {},
   "outputs": [
    {
     "data": {
      "text/plain": [
       "0.8829367975478032"
      ]
     },
     "execution_count": 45,
     "metadata": {},
     "output_type": "execute_result"
    }
   ],
   "source": [
    "gbc.score(embeddings, y_train)"
   ]
  },
  {
   "cell_type": "code",
   "execution_count": 46,
   "id": "c503f0e2",
   "metadata": {},
   "outputs": [
    {
     "data": {
      "text/plain": [
       "0.8280839895013123"
      ]
     },
     "execution_count": 46,
     "metadata": {},
     "output_type": "execute_result"
    }
   ],
   "source": [
    "gbc.score(val_embeddings, y_val)"
   ]
  },
  {
   "cell_type": "markdown",
   "id": "4b8274cc",
   "metadata": {},
   "source": [
    "# Hyperparameters tuning"
   ]
  },
  {
   "cell_type": "code",
   "execution_count": 47,
   "id": "cbda59cb",
   "metadata": {},
   "outputs": [],
   "source": [
    "from sklearn.model_selection import GridSearchCV\n",
    "\n",
    "param_grid = { 'n_estimators': [100, 300, 500, 1000],\n",
    "               'max_depth': [300, 500, 1000]\n",
    "              }"
   ]
  },
  {
   "cell_type": "code",
   "execution_count": 48,
   "id": "b064077e",
   "metadata": {},
   "outputs": [
    {
     "name": "stdout",
     "output_type": "stream",
     "text": [
      "Fitting 5 folds for each of 12 candidates, totalling 60 fits\n"
     ]
    },
    {
     "name": "stderr",
     "output_type": "stream",
     "text": [
      "[Parallel(n_jobs=1)]: Using backend SequentialBackend with 1 concurrent workers.\n",
      "[Parallel(n_jobs=1)]: Done 100 out of 100 | elapsed:   12.5s finished\n",
      "[Parallel(n_jobs=1)]: Using backend SequentialBackend with 1 concurrent workers.\n",
      "[Parallel(n_jobs=1)]: Done 100 out of 100 | elapsed:    0.0s finished\n",
      "[Parallel(n_jobs=1)]: Using backend SequentialBackend with 1 concurrent workers.\n"
     ]
    },
    {
     "name": "stdout",
     "output_type": "stream",
     "text": [
      "[CV] END ....................max_depth=300, n_estimators=100; total time=  12.5s\n"
     ]
    },
    {
     "name": "stderr",
     "output_type": "stream",
     "text": [
      "[Parallel(n_jobs=1)]: Done 100 out of 100 | elapsed:   12.3s finished\n",
      "[Parallel(n_jobs=1)]: Using backend SequentialBackend with 1 concurrent workers.\n",
      "[Parallel(n_jobs=1)]: Done 100 out of 100 | elapsed:    0.0s finished\n",
      "[Parallel(n_jobs=1)]: Using backend SequentialBackend with 1 concurrent workers.\n"
     ]
    },
    {
     "name": "stdout",
     "output_type": "stream",
     "text": [
      "[CV] END ....................max_depth=300, n_estimators=100; total time=  12.4s\n"
     ]
    },
    {
     "name": "stderr",
     "output_type": "stream",
     "text": [
      "[Parallel(n_jobs=1)]: Done 100 out of 100 | elapsed:   12.3s finished\n",
      "[Parallel(n_jobs=1)]: Using backend SequentialBackend with 1 concurrent workers.\n",
      "[Parallel(n_jobs=1)]: Done 100 out of 100 | elapsed:    0.0s finished\n",
      "[Parallel(n_jobs=1)]: Using backend SequentialBackend with 1 concurrent workers.\n"
     ]
    },
    {
     "name": "stdout",
     "output_type": "stream",
     "text": [
      "[CV] END ....................max_depth=300, n_estimators=100; total time=  12.3s\n"
     ]
    },
    {
     "name": "stderr",
     "output_type": "stream",
     "text": [
      "[Parallel(n_jobs=1)]: Done 100 out of 100 | elapsed:   12.2s finished\n",
      "[Parallel(n_jobs=1)]: Using backend SequentialBackend with 1 concurrent workers.\n",
      "[Parallel(n_jobs=1)]: Done 100 out of 100 | elapsed:    0.0s finished\n",
      "[Parallel(n_jobs=1)]: Using backend SequentialBackend with 1 concurrent workers.\n"
     ]
    },
    {
     "name": "stdout",
     "output_type": "stream",
     "text": [
      "[CV] END ....................max_depth=300, n_estimators=100; total time=  12.3s\n"
     ]
    },
    {
     "name": "stderr",
     "output_type": "stream",
     "text": [
      "[Parallel(n_jobs=1)]: Done 100 out of 100 | elapsed:   12.3s finished\n",
      "[Parallel(n_jobs=1)]: Using backend SequentialBackend with 1 concurrent workers.\n",
      "[Parallel(n_jobs=1)]: Done 100 out of 100 | elapsed:    0.0s finished\n",
      "[Parallel(n_jobs=1)]: Using backend SequentialBackend with 1 concurrent workers.\n"
     ]
    },
    {
     "name": "stdout",
     "output_type": "stream",
     "text": [
      "[CV] END ....................max_depth=300, n_estimators=100; total time=  12.3s\n"
     ]
    },
    {
     "name": "stderr",
     "output_type": "stream",
     "text": [
      "[Parallel(n_jobs=1)]: Done 300 out of 300 | elapsed:   37.3s finished\n",
      "[Parallel(n_jobs=1)]: Using backend SequentialBackend with 1 concurrent workers.\n",
      "[Parallel(n_jobs=1)]: Done 300 out of 300 | elapsed:    0.2s finished\n"
     ]
    },
    {
     "name": "stdout",
     "output_type": "stream",
     "text": [
      "[CV] END ....................max_depth=300, n_estimators=300; total time=  37.5s\n"
     ]
    },
    {
     "name": "stderr",
     "output_type": "stream",
     "text": [
      "[Parallel(n_jobs=1)]: Using backend SequentialBackend with 1 concurrent workers.\n",
      "[Parallel(n_jobs=1)]: Done 300 out of 300 | elapsed:   37.2s finished\n",
      "[Parallel(n_jobs=1)]: Using backend SequentialBackend with 1 concurrent workers.\n",
      "[Parallel(n_jobs=1)]: Done 300 out of 300 | elapsed:    0.1s finished\n",
      "[Parallel(n_jobs=1)]: Using backend SequentialBackend with 1 concurrent workers.\n"
     ]
    },
    {
     "name": "stdout",
     "output_type": "stream",
     "text": [
      "[CV] END ....................max_depth=300, n_estimators=300; total time=  37.3s\n"
     ]
    },
    {
     "name": "stderr",
     "output_type": "stream",
     "text": [
      "[Parallel(n_jobs=1)]: Done 300 out of 300 | elapsed:   37.0s finished\n",
      "[Parallel(n_jobs=1)]: Using backend SequentialBackend with 1 concurrent workers.\n",
      "[Parallel(n_jobs=1)]: Done 300 out of 300 | elapsed:    0.1s finished\n",
      "[Parallel(n_jobs=1)]: Using backend SequentialBackend with 1 concurrent workers.\n"
     ]
    },
    {
     "name": "stdout",
     "output_type": "stream",
     "text": [
      "[CV] END ....................max_depth=300, n_estimators=300; total time=  37.1s\n"
     ]
    },
    {
     "name": "stderr",
     "output_type": "stream",
     "text": [
      "[Parallel(n_jobs=1)]: Done 300 out of 300 | elapsed:   37.0s finished\n",
      "[Parallel(n_jobs=1)]: Using backend SequentialBackend with 1 concurrent workers.\n",
      "[Parallel(n_jobs=1)]: Done 300 out of 300 | elapsed:    0.1s finished\n",
      "[Parallel(n_jobs=1)]: Using backend SequentialBackend with 1 concurrent workers.\n"
     ]
    },
    {
     "name": "stdout",
     "output_type": "stream",
     "text": [
      "[CV] END ....................max_depth=300, n_estimators=300; total time=  37.1s\n"
     ]
    },
    {
     "name": "stderr",
     "output_type": "stream",
     "text": [
      "[Parallel(n_jobs=1)]: Done 300 out of 300 | elapsed:   36.7s finished\n",
      "[Parallel(n_jobs=1)]: Using backend SequentialBackend with 1 concurrent workers.\n",
      "[Parallel(n_jobs=1)]: Done 300 out of 300 | elapsed:    0.1s finished\n",
      "[Parallel(n_jobs=1)]: Using backend SequentialBackend with 1 concurrent workers.\n"
     ]
    },
    {
     "name": "stdout",
     "output_type": "stream",
     "text": [
      "[CV] END ....................max_depth=300, n_estimators=300; total time=  36.9s\n"
     ]
    },
    {
     "name": "stderr",
     "output_type": "stream",
     "text": [
      "[Parallel(n_jobs=1)]: Done 500 out of 500 | elapsed:  1.0min finished\n",
      "[Parallel(n_jobs=1)]: Using backend SequentialBackend with 1 concurrent workers.\n",
      "[Parallel(n_jobs=1)]: Done 500 out of 500 | elapsed:    0.1s finished\n"
     ]
    },
    {
     "name": "stdout",
     "output_type": "stream",
     "text": [
      "[CV] END ....................max_depth=300, n_estimators=500; total time= 1.0min\n"
     ]
    },
    {
     "name": "stderr",
     "output_type": "stream",
     "text": [
      "[Parallel(n_jobs=1)]: Using backend SequentialBackend with 1 concurrent workers.\n",
      "[Parallel(n_jobs=1)]: Done 500 out of 500 | elapsed:  1.0min finished\n",
      "[Parallel(n_jobs=1)]: Using backend SequentialBackend with 1 concurrent workers.\n",
      "[Parallel(n_jobs=1)]: Done 500 out of 500 | elapsed:    0.1s finished\n"
     ]
    },
    {
     "name": "stdout",
     "output_type": "stream",
     "text": [
      "[CV] END ....................max_depth=300, n_estimators=500; total time= 1.0min\n"
     ]
    },
    {
     "name": "stderr",
     "output_type": "stream",
     "text": [
      "[Parallel(n_jobs=1)]: Using backend SequentialBackend with 1 concurrent workers.\n",
      "[Parallel(n_jobs=1)]: Done 500 out of 500 | elapsed:  1.0min finished\n",
      "[Parallel(n_jobs=1)]: Using backend SequentialBackend with 1 concurrent workers.\n",
      "[Parallel(n_jobs=1)]: Done 500 out of 500 | elapsed:    0.1s finished\n"
     ]
    },
    {
     "name": "stdout",
     "output_type": "stream",
     "text": [
      "[CV] END ....................max_depth=300, n_estimators=500; total time= 1.0min\n"
     ]
    },
    {
     "name": "stderr",
     "output_type": "stream",
     "text": [
      "[Parallel(n_jobs=1)]: Using backend SequentialBackend with 1 concurrent workers.\n",
      "[Parallel(n_jobs=1)]: Done 500 out of 500 | elapsed:  1.0min finished\n",
      "[Parallel(n_jobs=1)]: Using backend SequentialBackend with 1 concurrent workers.\n",
      "[Parallel(n_jobs=1)]: Done 500 out of 500 | elapsed:    0.1s finished\n"
     ]
    },
    {
     "name": "stdout",
     "output_type": "stream",
     "text": [
      "[CV] END ....................max_depth=300, n_estimators=500; total time= 1.0min\n"
     ]
    },
    {
     "name": "stderr",
     "output_type": "stream",
     "text": [
      "[Parallel(n_jobs=1)]: Using backend SequentialBackend with 1 concurrent workers.\n",
      "[Parallel(n_jobs=1)]: Done 500 out of 500 | elapsed:  1.0min finished\n",
      "[Parallel(n_jobs=1)]: Using backend SequentialBackend with 1 concurrent workers.\n",
      "[Parallel(n_jobs=1)]: Done 500 out of 500 | elapsed:    0.1s finished\n"
     ]
    },
    {
     "name": "stdout",
     "output_type": "stream",
     "text": [
      "[CV] END ....................max_depth=300, n_estimators=500; total time= 1.0min\n"
     ]
    },
    {
     "name": "stderr",
     "output_type": "stream",
     "text": [
      "[Parallel(n_jobs=1)]: Using backend SequentialBackend with 1 concurrent workers.\n",
      "[Parallel(n_jobs=1)]: Done 1000 out of 1000 | elapsed:  2.1min finished\n",
      "[Parallel(n_jobs=1)]: Using backend SequentialBackend with 1 concurrent workers.\n",
      "[Parallel(n_jobs=1)]: Done 1000 out of 1000 | elapsed:    0.3s finished\n",
      "[Parallel(n_jobs=1)]: Using backend SequentialBackend with 1 concurrent workers.\n"
     ]
    },
    {
     "name": "stdout",
     "output_type": "stream",
     "text": [
      "[CV] END ...................max_depth=300, n_estimators=1000; total time= 2.1min\n"
     ]
    },
    {
     "name": "stderr",
     "output_type": "stream",
     "text": [
      "[Parallel(n_jobs=1)]: Done 1000 out of 1000 | elapsed:  2.1min finished\n",
      "[Parallel(n_jobs=1)]: Using backend SequentialBackend with 1 concurrent workers.\n",
      "[Parallel(n_jobs=1)]: Done 1000 out of 1000 | elapsed:    0.3s finished\n",
      "[Parallel(n_jobs=1)]: Using backend SequentialBackend with 1 concurrent workers.\n"
     ]
    },
    {
     "name": "stdout",
     "output_type": "stream",
     "text": [
      "[CV] END ...................max_depth=300, n_estimators=1000; total time= 2.1min\n"
     ]
    },
    {
     "name": "stderr",
     "output_type": "stream",
     "text": [
      "[Parallel(n_jobs=1)]: Done 1000 out of 1000 | elapsed:  2.0min finished\n",
      "[Parallel(n_jobs=1)]: Using backend SequentialBackend with 1 concurrent workers.\n",
      "[Parallel(n_jobs=1)]: Done 1000 out of 1000 | elapsed:    0.3s finished\n",
      "[Parallel(n_jobs=1)]: Using backend SequentialBackend with 1 concurrent workers.\n"
     ]
    },
    {
     "name": "stdout",
     "output_type": "stream",
     "text": [
      "[CV] END ...................max_depth=300, n_estimators=1000; total time= 2.1min\n"
     ]
    },
    {
     "name": "stderr",
     "output_type": "stream",
     "text": [
      "[Parallel(n_jobs=1)]: Done 1000 out of 1000 | elapsed:  2.1min finished\n",
      "[Parallel(n_jobs=1)]: Using backend SequentialBackend with 1 concurrent workers.\n",
      "[Parallel(n_jobs=1)]: Done 1000 out of 1000 | elapsed:    0.3s finished\n",
      "[Parallel(n_jobs=1)]: Using backend SequentialBackend with 1 concurrent workers.\n"
     ]
    },
    {
     "name": "stdout",
     "output_type": "stream",
     "text": [
      "[CV] END ...................max_depth=300, n_estimators=1000; total time= 2.1min\n"
     ]
    },
    {
     "name": "stderr",
     "output_type": "stream",
     "text": [
      "[Parallel(n_jobs=1)]: Done 1000 out of 1000 | elapsed:  2.1min finished\n",
      "[Parallel(n_jobs=1)]: Using backend SequentialBackend with 1 concurrent workers.\n",
      "[Parallel(n_jobs=1)]: Done 1000 out of 1000 | elapsed:    0.3s finished\n",
      "[Parallel(n_jobs=1)]: Using backend SequentialBackend with 1 concurrent workers.\n"
     ]
    },
    {
     "name": "stdout",
     "output_type": "stream",
     "text": [
      "[CV] END ...................max_depth=300, n_estimators=1000; total time= 2.1min\n"
     ]
    },
    {
     "name": "stderr",
     "output_type": "stream",
     "text": [
      "[Parallel(n_jobs=1)]: Done 100 out of 100 | elapsed:   12.3s finished\n",
      "[Parallel(n_jobs=1)]: Using backend SequentialBackend with 1 concurrent workers.\n",
      "[Parallel(n_jobs=1)]: Done 100 out of 100 | elapsed:    0.0s finished\n",
      "[Parallel(n_jobs=1)]: Using backend SequentialBackend with 1 concurrent workers.\n"
     ]
    },
    {
     "name": "stdout",
     "output_type": "stream",
     "text": [
      "[CV] END ....................max_depth=500, n_estimators=100; total time=  12.4s\n"
     ]
    },
    {
     "name": "stderr",
     "output_type": "stream",
     "text": [
      "[Parallel(n_jobs=1)]: Done 100 out of 100 | elapsed:   12.5s finished\n",
      "[Parallel(n_jobs=1)]: Using backend SequentialBackend with 1 concurrent workers.\n",
      "[Parallel(n_jobs=1)]: Done 100 out of 100 | elapsed:    0.0s finished\n",
      "[Parallel(n_jobs=1)]: Using backend SequentialBackend with 1 concurrent workers.\n"
     ]
    },
    {
     "name": "stdout",
     "output_type": "stream",
     "text": [
      "[CV] END ....................max_depth=500, n_estimators=100; total time=  12.5s\n"
     ]
    },
    {
     "name": "stderr",
     "output_type": "stream",
     "text": [
      "[Parallel(n_jobs=1)]: Done 100 out of 100 | elapsed:   12.3s finished\n",
      "[Parallel(n_jobs=1)]: Using backend SequentialBackend with 1 concurrent workers.\n",
      "[Parallel(n_jobs=1)]: Done 100 out of 100 | elapsed:    0.0s finished\n",
      "[Parallel(n_jobs=1)]: Using backend SequentialBackend with 1 concurrent workers.\n"
     ]
    },
    {
     "name": "stdout",
     "output_type": "stream",
     "text": [
      "[CV] END ....................max_depth=500, n_estimators=100; total time=  12.3s\n"
     ]
    },
    {
     "name": "stderr",
     "output_type": "stream",
     "text": [
      "[Parallel(n_jobs=1)]: Done 100 out of 100 | elapsed:   12.2s finished\n",
      "[Parallel(n_jobs=1)]: Using backend SequentialBackend with 1 concurrent workers.\n",
      "[Parallel(n_jobs=1)]: Done 100 out of 100 | elapsed:    0.0s finished\n",
      "[Parallel(n_jobs=1)]: Using backend SequentialBackend with 1 concurrent workers.\n"
     ]
    },
    {
     "name": "stdout",
     "output_type": "stream",
     "text": [
      "[CV] END ....................max_depth=500, n_estimators=100; total time=  12.3s\n"
     ]
    },
    {
     "name": "stderr",
     "output_type": "stream",
     "text": [
      "[Parallel(n_jobs=1)]: Done 100 out of 100 | elapsed:   12.4s finished\n",
      "[Parallel(n_jobs=1)]: Using backend SequentialBackend with 1 concurrent workers.\n",
      "[Parallel(n_jobs=1)]: Done 100 out of 100 | elapsed:    0.0s finished\n",
      "[Parallel(n_jobs=1)]: Using backend SequentialBackend with 1 concurrent workers.\n"
     ]
    },
    {
     "name": "stdout",
     "output_type": "stream",
     "text": [
      "[CV] END ....................max_depth=500, n_estimators=100; total time=  12.4s\n"
     ]
    },
    {
     "name": "stderr",
     "output_type": "stream",
     "text": [
      "[Parallel(n_jobs=1)]: Done 300 out of 300 | elapsed:   36.8s finished\n",
      "[Parallel(n_jobs=1)]: Using backend SequentialBackend with 1 concurrent workers.\n",
      "[Parallel(n_jobs=1)]: Done 300 out of 300 | elapsed:    0.1s finished\n",
      "[Parallel(n_jobs=1)]: Using backend SequentialBackend with 1 concurrent workers.\n"
     ]
    },
    {
     "name": "stdout",
     "output_type": "stream",
     "text": [
      "[CV] END ....................max_depth=500, n_estimators=300; total time=  37.0s\n"
     ]
    },
    {
     "name": "stderr",
     "output_type": "stream",
     "text": [
      "[Parallel(n_jobs=1)]: Done 300 out of 300 | elapsed:   36.7s finished\n",
      "[Parallel(n_jobs=1)]: Using backend SequentialBackend with 1 concurrent workers.\n",
      "[Parallel(n_jobs=1)]: Done 300 out of 300 | elapsed:    0.1s finished\n",
      "[Parallel(n_jobs=1)]: Using backend SequentialBackend with 1 concurrent workers.\n"
     ]
    },
    {
     "name": "stdout",
     "output_type": "stream",
     "text": [
      "[CV] END ....................max_depth=500, n_estimators=300; total time=  36.8s\n"
     ]
    },
    {
     "name": "stderr",
     "output_type": "stream",
     "text": [
      "[Parallel(n_jobs=1)]: Done 300 out of 300 | elapsed:   36.9s finished\n",
      "[Parallel(n_jobs=1)]: Using backend SequentialBackend with 1 concurrent workers.\n",
      "[Parallel(n_jobs=1)]: Done 300 out of 300 | elapsed:    0.1s finished\n",
      "[Parallel(n_jobs=1)]: Using backend SequentialBackend with 1 concurrent workers.\n"
     ]
    },
    {
     "name": "stdout",
     "output_type": "stream",
     "text": [
      "[CV] END ....................max_depth=500, n_estimators=300; total time=  37.1s\n"
     ]
    },
    {
     "name": "stderr",
     "output_type": "stream",
     "text": [
      "[Parallel(n_jobs=1)]: Done 300 out of 300 | elapsed:   36.5s finished\n",
      "[Parallel(n_jobs=1)]: Using backend SequentialBackend with 1 concurrent workers.\n",
      "[Parallel(n_jobs=1)]: Done 300 out of 300 | elapsed:    0.1s finished\n",
      "[Parallel(n_jobs=1)]: Using backend SequentialBackend with 1 concurrent workers.\n"
     ]
    },
    {
     "name": "stdout",
     "output_type": "stream",
     "text": [
      "[CV] END ....................max_depth=500, n_estimators=300; total time=  36.6s\n"
     ]
    },
    {
     "name": "stderr",
     "output_type": "stream",
     "text": [
      "[Parallel(n_jobs=1)]: Done 300 out of 300 | elapsed:   36.7s finished\n",
      "[Parallel(n_jobs=1)]: Using backend SequentialBackend with 1 concurrent workers.\n",
      "[Parallel(n_jobs=1)]: Done 300 out of 300 | elapsed:    0.1s finished\n",
      "[Parallel(n_jobs=1)]: Using backend SequentialBackend with 1 concurrent workers.\n"
     ]
    },
    {
     "name": "stdout",
     "output_type": "stream",
     "text": [
      "[CV] END ....................max_depth=500, n_estimators=300; total time=  36.8s\n"
     ]
    },
    {
     "name": "stderr",
     "output_type": "stream",
     "text": [
      "[Parallel(n_jobs=1)]: Done 500 out of 500 | elapsed:  1.0min finished\n",
      "[Parallel(n_jobs=1)]: Using backend SequentialBackend with 1 concurrent workers.\n",
      "[Parallel(n_jobs=1)]: Done 500 out of 500 | elapsed:    0.1s finished\n"
     ]
    },
    {
     "name": "stdout",
     "output_type": "stream",
     "text": [
      "[CV] END ....................max_depth=500, n_estimators=500; total time= 1.0min\n"
     ]
    },
    {
     "name": "stderr",
     "output_type": "stream",
     "text": [
      "[Parallel(n_jobs=1)]: Using backend SequentialBackend with 1 concurrent workers.\n",
      "[Parallel(n_jobs=1)]: Done 500 out of 500 | elapsed:  1.0min finished\n",
      "[Parallel(n_jobs=1)]: Using backend SequentialBackend with 1 concurrent workers.\n",
      "[Parallel(n_jobs=1)]: Done 500 out of 500 | elapsed:    0.1s finished\n"
     ]
    },
    {
     "name": "stdout",
     "output_type": "stream",
     "text": [
      "[CV] END ....................max_depth=500, n_estimators=500; total time= 1.0min\n"
     ]
    },
    {
     "name": "stderr",
     "output_type": "stream",
     "text": [
      "[Parallel(n_jobs=1)]: Using backend SequentialBackend with 1 concurrent workers.\n",
      "[Parallel(n_jobs=1)]: Done 500 out of 500 | elapsed:  1.0min finished\n",
      "[Parallel(n_jobs=1)]: Using backend SequentialBackend with 1 concurrent workers.\n",
      "[Parallel(n_jobs=1)]: Done 500 out of 500 | elapsed:    0.1s finished\n"
     ]
    },
    {
     "name": "stdout",
     "output_type": "stream",
     "text": [
      "[CV] END ....................max_depth=500, n_estimators=500; total time= 1.0min\n"
     ]
    },
    {
     "name": "stderr",
     "output_type": "stream",
     "text": [
      "[Parallel(n_jobs=1)]: Using backend SequentialBackend with 1 concurrent workers.\n",
      "[Parallel(n_jobs=1)]: Done 500 out of 500 | elapsed:  1.0min finished\n",
      "[Parallel(n_jobs=1)]: Using backend SequentialBackend with 1 concurrent workers.\n",
      "[Parallel(n_jobs=1)]: Done 500 out of 500 | elapsed:    0.1s finished\n"
     ]
    },
    {
     "name": "stdout",
     "output_type": "stream",
     "text": [
      "[CV] END ....................max_depth=500, n_estimators=500; total time= 1.0min\n"
     ]
    },
    {
     "name": "stderr",
     "output_type": "stream",
     "text": [
      "[Parallel(n_jobs=1)]: Using backend SequentialBackend with 1 concurrent workers.\n",
      "[Parallel(n_jobs=1)]: Done 500 out of 500 | elapsed:  1.0min finished\n",
      "[Parallel(n_jobs=1)]: Using backend SequentialBackend with 1 concurrent workers.\n",
      "[Parallel(n_jobs=1)]: Done 500 out of 500 | elapsed:    0.1s finished\n"
     ]
    },
    {
     "name": "stdout",
     "output_type": "stream",
     "text": [
      "[CV] END ....................max_depth=500, n_estimators=500; total time= 1.0min\n"
     ]
    },
    {
     "name": "stderr",
     "output_type": "stream",
     "text": [
      "[Parallel(n_jobs=1)]: Using backend SequentialBackend with 1 concurrent workers.\n",
      "[Parallel(n_jobs=1)]: Done 1000 out of 1000 | elapsed:  2.1min finished\n",
      "[Parallel(n_jobs=1)]: Using backend SequentialBackend with 1 concurrent workers.\n",
      "[Parallel(n_jobs=1)]: Done 1000 out of 1000 | elapsed:    0.3s finished\n",
      "[Parallel(n_jobs=1)]: Using backend SequentialBackend with 1 concurrent workers.\n"
     ]
    },
    {
     "name": "stdout",
     "output_type": "stream",
     "text": [
      "[CV] END ...................max_depth=500, n_estimators=1000; total time= 2.1min\n"
     ]
    },
    {
     "name": "stderr",
     "output_type": "stream",
     "text": [
      "[Parallel(n_jobs=1)]: Done 1000 out of 1000 | elapsed:  2.0min finished\n",
      "[Parallel(n_jobs=1)]: Using backend SequentialBackend with 1 concurrent workers.\n",
      "[Parallel(n_jobs=1)]: Done 1000 out of 1000 | elapsed:    0.3s finished\n",
      "[Parallel(n_jobs=1)]: Using backend SequentialBackend with 1 concurrent workers.\n"
     ]
    },
    {
     "name": "stdout",
     "output_type": "stream",
     "text": [
      "[CV] END ...................max_depth=500, n_estimators=1000; total time= 2.1min\n"
     ]
    },
    {
     "name": "stderr",
     "output_type": "stream",
     "text": [
      "[Parallel(n_jobs=1)]: Done 1000 out of 1000 | elapsed:  2.0min finished\n",
      "[Parallel(n_jobs=1)]: Using backend SequentialBackend with 1 concurrent workers.\n",
      "[Parallel(n_jobs=1)]: Done 1000 out of 1000 | elapsed:    0.3s finished\n",
      "[Parallel(n_jobs=1)]: Using backend SequentialBackend with 1 concurrent workers.\n"
     ]
    },
    {
     "name": "stdout",
     "output_type": "stream",
     "text": [
      "[CV] END ...................max_depth=500, n_estimators=1000; total time= 2.1min\n"
     ]
    },
    {
     "name": "stderr",
     "output_type": "stream",
     "text": [
      "[Parallel(n_jobs=1)]: Done 1000 out of 1000 | elapsed:  2.1min finished\n",
      "[Parallel(n_jobs=1)]: Using backend SequentialBackend with 1 concurrent workers.\n",
      "[Parallel(n_jobs=1)]: Done 1000 out of 1000 | elapsed:    0.3s finished\n",
      "[Parallel(n_jobs=1)]: Using backend SequentialBackend with 1 concurrent workers.\n"
     ]
    },
    {
     "name": "stdout",
     "output_type": "stream",
     "text": [
      "[CV] END ...................max_depth=500, n_estimators=1000; total time= 2.1min\n"
     ]
    },
    {
     "name": "stderr",
     "output_type": "stream",
     "text": [
      "[Parallel(n_jobs=1)]: Done 1000 out of 1000 | elapsed:  2.0min finished\n",
      "[Parallel(n_jobs=1)]: Using backend SequentialBackend with 1 concurrent workers.\n",
      "[Parallel(n_jobs=1)]: Done 1000 out of 1000 | elapsed:    0.3s finished\n",
      "[Parallel(n_jobs=1)]: Using backend SequentialBackend with 1 concurrent workers.\n"
     ]
    },
    {
     "name": "stdout",
     "output_type": "stream",
     "text": [
      "[CV] END ...................max_depth=500, n_estimators=1000; total time= 2.1min\n"
     ]
    },
    {
     "name": "stderr",
     "output_type": "stream",
     "text": [
      "[Parallel(n_jobs=1)]: Done 100 out of 100 | elapsed:   12.3s finished\n",
      "[Parallel(n_jobs=1)]: Using backend SequentialBackend with 1 concurrent workers.\n",
      "[Parallel(n_jobs=1)]: Done 100 out of 100 | elapsed:    0.0s finished\n",
      "[Parallel(n_jobs=1)]: Using backend SequentialBackend with 1 concurrent workers.\n"
     ]
    },
    {
     "name": "stdout",
     "output_type": "stream",
     "text": [
      "[CV] END ...................max_depth=1000, n_estimators=100; total time=  12.4s\n"
     ]
    },
    {
     "name": "stderr",
     "output_type": "stream",
     "text": [
      "[Parallel(n_jobs=1)]: Done 100 out of 100 | elapsed:   12.2s finished\n",
      "[Parallel(n_jobs=1)]: Using backend SequentialBackend with 1 concurrent workers.\n",
      "[Parallel(n_jobs=1)]: Done 100 out of 100 | elapsed:    0.0s finished\n",
      "[Parallel(n_jobs=1)]: Using backend SequentialBackend with 1 concurrent workers.\n"
     ]
    },
    {
     "name": "stdout",
     "output_type": "stream",
     "text": [
      "[CV] END ...................max_depth=1000, n_estimators=100; total time=  12.3s\n"
     ]
    },
    {
     "name": "stderr",
     "output_type": "stream",
     "text": [
      "[Parallel(n_jobs=1)]: Done 100 out of 100 | elapsed:   12.3s finished\n",
      "[Parallel(n_jobs=1)]: Using backend SequentialBackend with 1 concurrent workers.\n",
      "[Parallel(n_jobs=1)]: Done 100 out of 100 | elapsed:    0.0s finished\n",
      "[Parallel(n_jobs=1)]: Using backend SequentialBackend with 1 concurrent workers.\n"
     ]
    },
    {
     "name": "stdout",
     "output_type": "stream",
     "text": [
      "[CV] END ...................max_depth=1000, n_estimators=100; total time=  12.4s\n"
     ]
    },
    {
     "name": "stderr",
     "output_type": "stream",
     "text": [
      "[Parallel(n_jobs=1)]: Done 100 out of 100 | elapsed:   12.2s finished\n",
      "[Parallel(n_jobs=1)]: Using backend SequentialBackend with 1 concurrent workers.\n",
      "[Parallel(n_jobs=1)]: Done 100 out of 100 | elapsed:    0.0s finished\n",
      "[Parallel(n_jobs=1)]: Using backend SequentialBackend with 1 concurrent workers.\n"
     ]
    },
    {
     "name": "stdout",
     "output_type": "stream",
     "text": [
      "[CV] END ...................max_depth=1000, n_estimators=100; total time=  12.2s\n"
     ]
    },
    {
     "name": "stderr",
     "output_type": "stream",
     "text": [
      "[Parallel(n_jobs=1)]: Done 100 out of 100 | elapsed:   12.3s finished\n",
      "[Parallel(n_jobs=1)]: Using backend SequentialBackend with 1 concurrent workers.\n",
      "[Parallel(n_jobs=1)]: Done 100 out of 100 | elapsed:    0.0s finished\n",
      "[Parallel(n_jobs=1)]: Using backend SequentialBackend with 1 concurrent workers.\n"
     ]
    },
    {
     "name": "stdout",
     "output_type": "stream",
     "text": [
      "[CV] END ...................max_depth=1000, n_estimators=100; total time=  12.3s\n"
     ]
    },
    {
     "name": "stderr",
     "output_type": "stream",
     "text": [
      "[Parallel(n_jobs=1)]: Done 300 out of 300 | elapsed:   37.0s finished\n",
      "[Parallel(n_jobs=1)]: Using backend SequentialBackend with 1 concurrent workers.\n",
      "[Parallel(n_jobs=1)]: Done 300 out of 300 | elapsed:    0.1s finished\n",
      "[Parallel(n_jobs=1)]: Using backend SequentialBackend with 1 concurrent workers.\n"
     ]
    },
    {
     "name": "stdout",
     "output_type": "stream",
     "text": [
      "[CV] END ...................max_depth=1000, n_estimators=300; total time=  37.2s\n"
     ]
    },
    {
     "name": "stderr",
     "output_type": "stream",
     "text": [
      "[Parallel(n_jobs=1)]: Done 300 out of 300 | elapsed:   37.1s finished\n",
      "[Parallel(n_jobs=1)]: Using backend SequentialBackend with 1 concurrent workers.\n",
      "[Parallel(n_jobs=1)]: Done 300 out of 300 | elapsed:    0.1s finished\n",
      "[Parallel(n_jobs=1)]: Using backend SequentialBackend with 1 concurrent workers.\n"
     ]
    },
    {
     "name": "stdout",
     "output_type": "stream",
     "text": [
      "[CV] END ...................max_depth=1000, n_estimators=300; total time=  37.2s\n"
     ]
    },
    {
     "name": "stderr",
     "output_type": "stream",
     "text": [
      "[Parallel(n_jobs=1)]: Done 300 out of 300 | elapsed:   36.9s finished\n",
      "[Parallel(n_jobs=1)]: Using backend SequentialBackend with 1 concurrent workers.\n",
      "[Parallel(n_jobs=1)]: Done 300 out of 300 | elapsed:    0.1s finished\n",
      "[Parallel(n_jobs=1)]: Using backend SequentialBackend with 1 concurrent workers.\n"
     ]
    },
    {
     "name": "stdout",
     "output_type": "stream",
     "text": [
      "[CV] END ...................max_depth=1000, n_estimators=300; total time=  37.1s\n"
     ]
    },
    {
     "name": "stderr",
     "output_type": "stream",
     "text": [
      "[Parallel(n_jobs=1)]: Done 300 out of 300 | elapsed:   36.7s finished\n",
      "[Parallel(n_jobs=1)]: Using backend SequentialBackend with 1 concurrent workers.\n",
      "[Parallel(n_jobs=1)]: Done 300 out of 300 | elapsed:    0.1s finished\n",
      "[Parallel(n_jobs=1)]: Using backend SequentialBackend with 1 concurrent workers.\n"
     ]
    },
    {
     "name": "stdout",
     "output_type": "stream",
     "text": [
      "[CV] END ...................max_depth=1000, n_estimators=300; total time=  36.8s\n"
     ]
    },
    {
     "name": "stderr",
     "output_type": "stream",
     "text": [
      "[Parallel(n_jobs=1)]: Done 300 out of 300 | elapsed:   36.7s finished\n",
      "[Parallel(n_jobs=1)]: Using backend SequentialBackend with 1 concurrent workers.\n",
      "[Parallel(n_jobs=1)]: Done 300 out of 300 | elapsed:    0.1s finished\n",
      "[Parallel(n_jobs=1)]: Using backend SequentialBackend with 1 concurrent workers.\n"
     ]
    },
    {
     "name": "stdout",
     "output_type": "stream",
     "text": [
      "[CV] END ...................max_depth=1000, n_estimators=300; total time=  36.9s\n"
     ]
    },
    {
     "name": "stderr",
     "output_type": "stream",
     "text": [
      "[Parallel(n_jobs=1)]: Done 500 out of 500 | elapsed:  1.0min finished\n",
      "[Parallel(n_jobs=1)]: Using backend SequentialBackend with 1 concurrent workers.\n",
      "[Parallel(n_jobs=1)]: Done 500 out of 500 | elapsed:    0.1s finished\n"
     ]
    },
    {
     "name": "stdout",
     "output_type": "stream",
     "text": [
      "[CV] END ...................max_depth=1000, n_estimators=500; total time= 1.0min\n"
     ]
    },
    {
     "name": "stderr",
     "output_type": "stream",
     "text": [
      "[Parallel(n_jobs=1)]: Using backend SequentialBackend with 1 concurrent workers.\n",
      "[Parallel(n_jobs=1)]: Done 500 out of 500 | elapsed:  1.0min finished\n",
      "[Parallel(n_jobs=1)]: Using backend SequentialBackend with 1 concurrent workers.\n",
      "[Parallel(n_jobs=1)]: Done 500 out of 500 | elapsed:    0.1s finished\n"
     ]
    },
    {
     "name": "stdout",
     "output_type": "stream",
     "text": [
      "[CV] END ...................max_depth=1000, n_estimators=500; total time= 1.0min\n"
     ]
    },
    {
     "name": "stderr",
     "output_type": "stream",
     "text": [
      "[Parallel(n_jobs=1)]: Using backend SequentialBackend with 1 concurrent workers.\n",
      "[Parallel(n_jobs=1)]: Done 500 out of 500 | elapsed:  1.0min finished\n",
      "[Parallel(n_jobs=1)]: Using backend SequentialBackend with 1 concurrent workers.\n",
      "[Parallel(n_jobs=1)]: Done 500 out of 500 | elapsed:    0.1s finished\n"
     ]
    },
    {
     "name": "stdout",
     "output_type": "stream",
     "text": [
      "[CV] END ...................max_depth=1000, n_estimators=500; total time= 1.0min\n"
     ]
    },
    {
     "name": "stderr",
     "output_type": "stream",
     "text": [
      "[Parallel(n_jobs=1)]: Using backend SequentialBackend with 1 concurrent workers.\n",
      "[Parallel(n_jobs=1)]: Done 500 out of 500 | elapsed:  1.0min finished\n",
      "[Parallel(n_jobs=1)]: Using backend SequentialBackend with 1 concurrent workers.\n",
      "[Parallel(n_jobs=1)]: Done 500 out of 500 | elapsed:    0.1s finished\n"
     ]
    },
    {
     "name": "stdout",
     "output_type": "stream",
     "text": [
      "[CV] END ...................max_depth=1000, n_estimators=500; total time= 1.0min\n"
     ]
    },
    {
     "name": "stderr",
     "output_type": "stream",
     "text": [
      "[Parallel(n_jobs=1)]: Using backend SequentialBackend with 1 concurrent workers.\n",
      "[Parallel(n_jobs=1)]: Done 500 out of 500 | elapsed:  1.0min finished\n",
      "[Parallel(n_jobs=1)]: Using backend SequentialBackend with 1 concurrent workers.\n",
      "[Parallel(n_jobs=1)]: Done 500 out of 500 | elapsed:    0.1s finished\n"
     ]
    },
    {
     "name": "stdout",
     "output_type": "stream",
     "text": [
      "[CV] END ...................max_depth=1000, n_estimators=500; total time= 1.0min\n"
     ]
    },
    {
     "name": "stderr",
     "output_type": "stream",
     "text": [
      "[Parallel(n_jobs=1)]: Using backend SequentialBackend with 1 concurrent workers.\n",
      "[Parallel(n_jobs=1)]: Done 1000 out of 1000 | elapsed:  2.1min finished\n",
      "[Parallel(n_jobs=1)]: Using backend SequentialBackend with 1 concurrent workers.\n",
      "[Parallel(n_jobs=1)]: Done 1000 out of 1000 | elapsed:    0.3s finished\n",
      "[Parallel(n_jobs=1)]: Using backend SequentialBackend with 1 concurrent workers.\n"
     ]
    },
    {
     "name": "stdout",
     "output_type": "stream",
     "text": [
      "[CV] END ..................max_depth=1000, n_estimators=1000; total time= 2.1min\n"
     ]
    },
    {
     "name": "stderr",
     "output_type": "stream",
     "text": [
      "[Parallel(n_jobs=1)]: Done 1000 out of 1000 | elapsed:  2.1min finished\n",
      "[Parallel(n_jobs=1)]: Using backend SequentialBackend with 1 concurrent workers.\n",
      "[Parallel(n_jobs=1)]: Done 1000 out of 1000 | elapsed:    0.3s finished\n",
      "[Parallel(n_jobs=1)]: Using backend SequentialBackend with 1 concurrent workers.\n"
     ]
    },
    {
     "name": "stdout",
     "output_type": "stream",
     "text": [
      "[CV] END ..................max_depth=1000, n_estimators=1000; total time= 2.1min\n"
     ]
    },
    {
     "name": "stderr",
     "output_type": "stream",
     "text": [
      "[Parallel(n_jobs=1)]: Done 1000 out of 1000 | elapsed:  2.0min finished\n",
      "[Parallel(n_jobs=1)]: Using backend SequentialBackend with 1 concurrent workers.\n",
      "[Parallel(n_jobs=1)]: Done 1000 out of 1000 | elapsed:    0.3s finished\n",
      "[Parallel(n_jobs=1)]: Using backend SequentialBackend with 1 concurrent workers.\n"
     ]
    },
    {
     "name": "stdout",
     "output_type": "stream",
     "text": [
      "[CV] END ..................max_depth=1000, n_estimators=1000; total time= 2.1min\n"
     ]
    },
    {
     "name": "stderr",
     "output_type": "stream",
     "text": [
      "[Parallel(n_jobs=1)]: Done 1000 out of 1000 | elapsed:  2.1min finished\n",
      "[Parallel(n_jobs=1)]: Using backend SequentialBackend with 1 concurrent workers.\n",
      "[Parallel(n_jobs=1)]: Done 1000 out of 1000 | elapsed:    0.3s finished\n",
      "[Parallel(n_jobs=1)]: Using backend SequentialBackend with 1 concurrent workers.\n"
     ]
    },
    {
     "name": "stdout",
     "output_type": "stream",
     "text": [
      "[CV] END ..................max_depth=1000, n_estimators=1000; total time= 2.1min\n"
     ]
    },
    {
     "name": "stderr",
     "output_type": "stream",
     "text": [
      "[Parallel(n_jobs=1)]: Done 1000 out of 1000 | elapsed:  2.0min finished\n",
      "[Parallel(n_jobs=1)]: Using backend SequentialBackend with 1 concurrent workers.\n",
      "[Parallel(n_jobs=1)]: Done 1000 out of 1000 | elapsed:    0.3s finished\n",
      "[Parallel(n_jobs=1)]: Using backend SequentialBackend with 1 concurrent workers.\n"
     ]
    },
    {
     "name": "stdout",
     "output_type": "stream",
     "text": [
      "[CV] END ..................max_depth=1000, n_estimators=1000; total time= 2.1min\n"
     ]
    },
    {
     "name": "stderr",
     "output_type": "stream",
     "text": [
      "[Parallel(n_jobs=1)]: Done 1000 out of 1000 | elapsed:  2.7min finished\n"
     ]
    },
    {
     "data": {
      "text/html": [
       "<style>#sk-container-id-3 {color: black;background-color: white;}#sk-container-id-3 pre{padding: 0;}#sk-container-id-3 div.sk-toggleable {background-color: white;}#sk-container-id-3 label.sk-toggleable__label {cursor: pointer;display: block;width: 100%;margin-bottom: 0;padding: 0.3em;box-sizing: border-box;text-align: center;}#sk-container-id-3 label.sk-toggleable__label-arrow:before {content: \"▸\";float: left;margin-right: 0.25em;color: #696969;}#sk-container-id-3 label.sk-toggleable__label-arrow:hover:before {color: black;}#sk-container-id-3 div.sk-estimator:hover label.sk-toggleable__label-arrow:before {color: black;}#sk-container-id-3 div.sk-toggleable__content {max-height: 0;max-width: 0;overflow: hidden;text-align: left;background-color: #f0f8ff;}#sk-container-id-3 div.sk-toggleable__content pre {margin: 0.2em;color: black;border-radius: 0.25em;background-color: #f0f8ff;}#sk-container-id-3 input.sk-toggleable__control:checked~div.sk-toggleable__content {max-height: 200px;max-width: 100%;overflow: auto;}#sk-container-id-3 input.sk-toggleable__control:checked~label.sk-toggleable__label-arrow:before {content: \"▾\";}#sk-container-id-3 div.sk-estimator input.sk-toggleable__control:checked~label.sk-toggleable__label {background-color: #d4ebff;}#sk-container-id-3 div.sk-label input.sk-toggleable__control:checked~label.sk-toggleable__label {background-color: #d4ebff;}#sk-container-id-3 input.sk-hidden--visually {border: 0;clip: rect(1px 1px 1px 1px);clip: rect(1px, 1px, 1px, 1px);height: 1px;margin: -1px;overflow: hidden;padding: 0;position: absolute;width: 1px;}#sk-container-id-3 div.sk-estimator {font-family: monospace;background-color: #f0f8ff;border: 1px dotted black;border-radius: 0.25em;box-sizing: border-box;margin-bottom: 0.5em;}#sk-container-id-3 div.sk-estimator:hover {background-color: #d4ebff;}#sk-container-id-3 div.sk-parallel-item::after {content: \"\";width: 100%;border-bottom: 1px solid gray;flex-grow: 1;}#sk-container-id-3 div.sk-label:hover label.sk-toggleable__label {background-color: #d4ebff;}#sk-container-id-3 div.sk-serial::before {content: \"\";position: absolute;border-left: 1px solid gray;box-sizing: border-box;top: 0;bottom: 0;left: 50%;z-index: 0;}#sk-container-id-3 div.sk-serial {display: flex;flex-direction: column;align-items: center;background-color: white;padding-right: 0.2em;padding-left: 0.2em;position: relative;}#sk-container-id-3 div.sk-item {position: relative;z-index: 1;}#sk-container-id-3 div.sk-parallel {display: flex;align-items: stretch;justify-content: center;background-color: white;position: relative;}#sk-container-id-3 div.sk-item::before, #sk-container-id-3 div.sk-parallel-item::before {content: \"\";position: absolute;border-left: 1px solid gray;box-sizing: border-box;top: 0;bottom: 0;left: 50%;z-index: -1;}#sk-container-id-3 div.sk-parallel-item {display: flex;flex-direction: column;z-index: 1;position: relative;background-color: white;}#sk-container-id-3 div.sk-parallel-item:first-child::after {align-self: flex-end;width: 50%;}#sk-container-id-3 div.sk-parallel-item:last-child::after {align-self: flex-start;width: 50%;}#sk-container-id-3 div.sk-parallel-item:only-child::after {width: 0;}#sk-container-id-3 div.sk-dashed-wrapped {border: 1px dashed gray;margin: 0 0.4em 0.5em 0.4em;box-sizing: border-box;padding-bottom: 0.4em;background-color: white;}#sk-container-id-3 div.sk-label label {font-family: monospace;font-weight: bold;display: inline-block;line-height: 1.2em;}#sk-container-id-3 div.sk-label-container {text-align: center;}#sk-container-id-3 div.sk-container {/* jupyter's `normalize.less` sets `[hidden] { display: none; }` but bootstrap.min.css set `[hidden] { display: none !important; }` so we also need the `!important` here to be able to override the default hidden behavior on the sphinx rendered scikit-learn.org. See: https://github.com/scikit-learn/scikit-learn/issues/21755 */display: inline-block !important;position: relative;}#sk-container-id-3 div.sk-text-repr-fallback {display: none;}</style><div id=\"sk-container-id-3\" class=\"sk-top-container\"><div class=\"sk-text-repr-fallback\"><pre>GridSearchCV(estimator=RandomForestClassifier(verbose=1),\n",
       "             param_grid={&#x27;max_depth&#x27;: [300, 500, 1000],\n",
       "                         &#x27;n_estimators&#x27;: [100, 300, 500, 1000]},\n",
       "             verbose=2)</pre><b>In a Jupyter environment, please rerun this cell to show the HTML representation or trust the notebook. <br />On GitHub, the HTML representation is unable to render, please try loading this page with nbviewer.org.</b></div><div class=\"sk-container\" hidden><div class=\"sk-item sk-dashed-wrapped\"><div class=\"sk-label-container\"><div class=\"sk-label sk-toggleable\"><input class=\"sk-toggleable__control sk-hidden--visually\" id=\"sk-estimator-id-3\" type=\"checkbox\" ><label for=\"sk-estimator-id-3\" class=\"sk-toggleable__label sk-toggleable__label-arrow\">GridSearchCV</label><div class=\"sk-toggleable__content\"><pre>GridSearchCV(estimator=RandomForestClassifier(verbose=1),\n",
       "             param_grid={&#x27;max_depth&#x27;: [300, 500, 1000],\n",
       "                         &#x27;n_estimators&#x27;: [100, 300, 500, 1000]},\n",
       "             verbose=2)</pre></div></div></div><div class=\"sk-parallel\"><div class=\"sk-parallel-item\"><div class=\"sk-item\"><div class=\"sk-label-container\"><div class=\"sk-label sk-toggleable\"><input class=\"sk-toggleable__control sk-hidden--visually\" id=\"sk-estimator-id-4\" type=\"checkbox\" ><label for=\"sk-estimator-id-4\" class=\"sk-toggleable__label sk-toggleable__label-arrow\">estimator: RandomForestClassifier</label><div class=\"sk-toggleable__content\"><pre>RandomForestClassifier(verbose=1)</pre></div></div></div><div class=\"sk-serial\"><div class=\"sk-item\"><div class=\"sk-estimator sk-toggleable\"><input class=\"sk-toggleable__control sk-hidden--visually\" id=\"sk-estimator-id-5\" type=\"checkbox\" ><label for=\"sk-estimator-id-5\" class=\"sk-toggleable__label sk-toggleable__label-arrow\">RandomForestClassifier</label><div class=\"sk-toggleable__content\"><pre>RandomForestClassifier(verbose=1)</pre></div></div></div></div></div></div></div></div></div></div>"
      ],
      "text/plain": [
       "GridSearchCV(estimator=RandomForestClassifier(verbose=1),\n",
       "             param_grid={'max_depth': [300, 500, 1000],\n",
       "                         'n_estimators': [100, 300, 500, 1000]},\n",
       "             verbose=2)"
      ]
     },
     "execution_count": 48,
     "metadata": {},
     "output_type": "execute_result"
    }
   ],
   "source": [
    "grid = GridSearchCV(RandomForestClassifier(verbose=1), param_grid, verbose=2)\n",
    "\n",
    "grid.fit(embeddings, y_train)"
   ]
  },
  {
   "cell_type": "code",
   "execution_count": 49,
   "id": "2ab87ed6",
   "metadata": {},
   "outputs": [
    {
     "data": {
      "text/plain": [
       "{'max_depth': 500, 'n_estimators': 1000}"
      ]
     },
     "execution_count": 49,
     "metadata": {},
     "output_type": "execute_result"
    }
   ],
   "source": [
    "grid.best_params_"
   ]
  },
  {
   "cell_type": "code",
   "execution_count": 69,
   "id": "15c696c2",
   "metadata": {},
   "outputs": [
    {
     "name": "stderr",
     "output_type": "stream",
     "text": [
      "[Parallel(n_jobs=1)]: Using backend SequentialBackend with 1 concurrent workers.\n",
      "[Parallel(n_jobs=1)]: Done 1000 out of 1000 | elapsed:    0.2s finished\n"
     ]
    },
    {
     "data": {
      "text/plain": [
       "0.8241469816272966"
      ]
     },
     "execution_count": 69,
     "metadata": {},
     "output_type": "execute_result"
    }
   ],
   "source": [
    "grid.best_estimator_.score(val_embeddings, y_val)"
   ]
  },
  {
   "cell_type": "code",
   "execution_count": null,
   "id": "9e77d4a7",
   "metadata": {},
   "outputs": [
    {
     "name": "stdout",
     "output_type": "stream",
     "text": [
      "Fitting 5 folds for each of 12 candidates, totalling 60 fits\n",
      "      Iter       Train Loss   Remaining Time \n",
      "         1           1.1767           15.67m\n",
      "         2           1.0230           13.61m\n",
      "         3           0.8953           12.79m\n",
      "         4           0.7877           12.48m\n",
      "         5           0.6960           12.18m\n",
      "         6           0.6170           11.98m\n",
      "         7           0.5486           11.78m\n",
      "         8           0.4890           11.28m\n",
      "         9           0.4368           10.67m\n",
      "        10           0.3908           10.19m\n",
      "        20           0.1377            7.51m\n",
      "        30           0.0530            6.09m\n",
      "        40           0.0228            5.02m\n",
      "        50           0.0119            4.08m\n",
      "        60           0.0079            3.21m\n",
      "        70           0.0064            2.38m\n",
      "        80           0.0058            1.57m\n",
      "        90           0.0056           46.82s\n",
      "       100           0.0056            0.00s\n",
      "[CV] END ....................max_depth=300, n_estimators=100; total time= 7.8min\n",
      "      Iter       Train Loss   Remaining Time \n",
      "         1           1.1769            7.20m\n",
      "         2           1.0233            7.28m\n",
      "         3           0.8957            7.23m\n",
      "         4           0.7882            7.19m\n",
      "         5           0.6965            7.09m\n",
      "         6           0.6177            6.99m\n",
      "         7           0.5493            6.91m\n",
      "         8           0.4897            6.89m\n",
      "         9           0.4375            6.79m\n",
      "        10           0.3916            6.71m\n",
      "        20           0.1387            5.93m\n",
      "        30           0.0541            5.15m\n",
      "        40           0.0240            4.41m\n",
      "        50           0.0130            3.67m\n",
      "        60           0.0090            2.93m\n",
      "        70           0.0075            2.20m\n",
      "        80           0.0070            1.46m\n",
      "        90           0.0068           43.72s\n",
      "       100           0.0067            0.00s\n",
      "[CV] END ....................max_depth=300, n_estimators=100; total time= 7.3min\n",
      "      Iter       Train Loss   Remaining Time \n",
      "         1           1.1770            6.96m\n",
      "         2           1.0235            7.04m\n",
      "         3           0.8960            6.89m\n",
      "         4           0.7885            6.79m\n",
      "         5           0.6969            6.70m\n",
      "         6           0.6180            7.74m\n",
      "         7           0.5497            7.55m\n",
      "         8           0.4902            7.38m\n",
      "         9           0.4380            7.17m\n",
      "        10           0.3921            7.00m\n",
      "        20           0.1393            5.82m\n",
      "        30           0.0548            4.96m\n",
      "        40           0.0247            4.20m\n",
      "        50           0.0137            3.47m\n",
      "        60           0.0097            2.76m\n",
      "        70           0.0083            2.06m\n",
      "        80           0.0077            1.37m\n",
      "        90           0.0075           41.04s\n",
      "       100           0.0074            0.00s\n",
      "[CV] END ....................max_depth=300, n_estimators=100; total time= 6.8min\n",
      "      Iter       Train Loss   Remaining Time \n",
      "         1           1.1769            6.57m\n",
      "         2           1.0233            6.49m\n",
      "         3           0.8957            6.47m\n",
      "         4           0.7882            6.45m\n",
      "         5           0.6966            6.36m\n",
      "         6           0.6177            6.28m\n",
      "         7           0.5494            6.18m\n",
      "         8           0.4898            6.09m\n",
      "         9           0.4377            6.01m\n",
      "        10           0.3918            5.93m\n",
      "        20           0.1388            5.23m\n",
      "        30           0.0543            4.55m\n",
      "        40           0.0241            3.90m\n",
      "        50           0.0132            3.29m\n",
      "        60           0.0092            2.65m\n",
      "        70           0.0077            1.99m\n",
      "        80           0.0071            1.32m\n",
      "        90           0.0069           39.44s\n",
      "       100           0.0069            0.00s\n",
      "[CV] END ....................max_depth=300, n_estimators=100; total time= 6.5min\n",
      "      Iter       Train Loss   Remaining Time \n",
      "         1           1.1769            7.31m\n",
      "         2           1.0233            7.20m\n",
      "         3           0.8958            7.17m\n",
      "         4           0.7884            7.12m\n",
      "         5           0.6968            7.02m\n",
      "         6           0.6179            6.90m\n",
      "         7           0.5496            6.82m\n",
      "         8           0.4901            6.76m\n",
      "         9           0.4379            6.67m\n",
      "        10           0.3920            6.60m\n",
      "        20           0.1392            5.82m\n",
      "        30           0.0547            5.05m\n",
      "        40           0.0246            4.32m\n",
      "        50           0.0136            3.59m\n",
      "        60           0.0096            2.87m\n",
      "        70           0.0081            2.15m\n",
      "        80           0.0076            1.43m\n",
      "        90           0.0074           43.00s\n",
      "       100           0.0073            0.00s\n",
      "[CV] END ....................max_depth=300, n_estimators=100; total time= 7.2min\n",
      "      Iter       Train Loss   Remaining Time \n",
      "         1           1.1767           28.31m\n",
      "         2           1.0230           25.47m\n",
      "         3           0.8953           24.40m\n",
      "         4           0.7877           23.91m\n",
      "         5           0.6960           27.01m\n",
      "         6           0.6170           26.18m\n",
      "         7           0.5486           25.59m\n",
      "         8           0.4890           25.10m\n",
      "         9           0.4368           24.63m\n",
      "        10           0.3908           24.34m\n",
      "        20           0.1377           22.19m\n",
      "        30           0.0530           20.97m\n",
      "        40           0.0228           19.96m\n",
      "        50           0.0119           19.04m\n",
      "        60           0.0079           18.16m\n",
      "        70           0.0064           17.34m\n",
      "        80           0.0058           16.57m\n",
      "        90           0.0056           15.77m\n",
      "       100           0.0056           15.00m\n",
      "       200           0.0055            6.81m\n",
      "       300           0.0055            0.00s\n",
      "[CV] END ....................max_depth=300, n_estimators=300; total time=18.1min\n",
      "      Iter       Train Loss   Remaining Time \n",
      "         1           1.1769           21.89m\n",
      "         2           1.0233           22.26m\n",
      "         3           0.8957           22.17m\n",
      "         4           0.7882           22.20m\n",
      "         5           0.6965           22.15m\n",
      "         6           0.6177           21.99m\n",
      "         7           0.5493           21.96m\n",
      "         8           0.4897           21.95m\n",
      "         9           0.4375           21.78m\n",
      "        10           0.3916           21.70m\n",
      "        20           0.1387           21.86m\n",
      "        30           0.0541           20.60m\n",
      "        40           0.0240           19.61m\n",
      "        50           0.0130           18.72m\n",
      "        60           0.0090           17.86m\n",
      "        70           0.0075           17.06m\n",
      "        80           0.0070           16.25m\n",
      "        90           0.0068           15.47m\n",
      "       100           0.0067           14.70m\n",
      "       200           0.0067            6.79m\n",
      "       300           0.0067            0.00s\n",
      "[CV] END ....................max_depth=300, n_estimators=300; total time=19.1min\n",
      "      Iter       Train Loss   Remaining Time \n",
      "         1           1.1770           20.99m\n",
      "         2           1.0235           21.38m\n",
      "         3           0.8960           21.05m\n",
      "         4           0.7885           20.87m\n",
      "         5           0.6969           20.76m\n",
      "         6           0.6180           24.12m\n",
      "         7           0.5497           23.51m\n",
      "         8           0.4902           23.11m\n",
      "         9           0.4380           22.67m\n",
      "        10           0.3921           22.31m\n",
      "        20           0.1393           20.28m\n",
      "        30           0.0548           19.07m\n",
      "        40           0.0247           18.14m\n",
      "        50           0.0137           17.35m\n",
      "        60           0.0097           16.57m\n",
      "        70           0.0083           15.82m\n",
      "        80           0.0077           15.09m\n",
      "        90           0.0075           14.37m\n",
      "       100           0.0074           13.66m\n",
      "       200           0.0074            6.32m\n",
      "       300           0.0074            0.00s\n",
      "[CV] END ....................max_depth=300, n_estimators=300; total time=18.1min\n",
      "      Iter       Train Loss   Remaining Time \n"
     ]
    },
    {
     "name": "stdout",
     "output_type": "stream",
     "text": [
      "         1           1.1769           19.33m\n",
      "         2           1.0233           19.48m\n",
      "         3           0.8957           19.55m\n",
      "         4           0.7882           19.67m\n",
      "         5           0.6966           19.54m\n",
      "         6           0.6177           19.52m\n",
      "         7           0.5494           19.38m\n",
      "         8           0.4898           19.26m\n",
      "         9           0.4377           19.18m\n",
      "        10           0.3918           19.08m\n",
      "        20           0.1388           18.29m\n",
      "        30           0.0543           17.81m\n",
      "        40           0.0241           17.07m\n",
      "        50           0.0132           16.45m\n",
      "        60           0.0092           15.85m\n",
      "        70           0.0077           15.19m\n",
      "        80           0.0071           14.41m\n",
      "        90           0.0069           13.66m\n",
      "       100           0.0069           12.95m\n",
      "       200           0.0068            6.10m\n",
      "       300           0.0068            0.00s\n",
      "[CV] END ....................max_depth=300, n_estimators=300; total time=17.3min\n",
      "      Iter       Train Loss   Remaining Time \n",
      "         1           1.1769           21.79m\n",
      "         2           1.0233           27.03m\n",
      "         3           0.8958           28.82m\n",
      "         4           0.7884           27.05m\n",
      "         5           0.6968           25.93m\n",
      "         6           0.6179           25.07m\n",
      "         7           0.5496           24.48m\n",
      "         8           0.4901           23.99m\n",
      "         9           0.4379           23.58m\n",
      "        10           0.3920           23.28m\n",
      "        20           0.1392           21.38m\n",
      "        30           0.0547           20.15m\n",
      "        40           0.0246           19.20m\n",
      "        50           0.0136           18.33m\n",
      "        60           0.0096           17.54m\n",
      "        70           0.0081           16.76m\n",
      "        80           0.0076           15.99m\n",
      "        90           0.0074           15.39m\n",
      "       100           0.0073           14.69m\n",
      "       200           0.0073            6.89m\n",
      "       300           0.0073            0.00s\n",
      "[CV] END ....................max_depth=300, n_estimators=300; total time=19.3min\n",
      "      Iter       Train Loss   Remaining Time \n",
      "         1           1.1767           48.03m\n",
      "         2           1.0230           42.67m\n",
      "         3           0.8953           40.87m\n",
      "         4           0.7877           40.35m\n",
      "         5           0.6960           47.98m\n",
      "         6           0.6170           45.99m\n",
      "         7           0.5486           44.71m\n",
      "         8           0.4890           43.73m\n",
      "         9           0.4368           42.81m\n",
      "        10           0.3908           42.27m\n",
      "        20           0.1377           38.66m\n",
      "        30           0.0530           36.87m\n",
      "        40           0.0228           35.57m\n",
      "        50           0.0119           34.49m\n",
      "        60           0.0079           33.52m\n",
      "        70           0.0064           32.65m\n",
      "        80           0.0058           31.80m\n",
      "        90           0.0056           30.98m\n",
      "       100           0.0056           30.17m\n",
      "       200           0.0055           20.46m\n",
      "       300           0.0055           12.14m\n",
      "       400           0.0055            5.77m\n",
      "       500           0.0055            0.00s\n",
      "[CV] END ....................max_depth=300, n_estimators=500; total time=28.5min\n",
      "      Iter       Train Loss   Remaining Time \n",
      "         1           1.1769           36.83m\n",
      "         2           1.0233           37.27m\n",
      "         3           0.8957           37.20m\n",
      "         4           0.7882           37.22m\n",
      "         5           0.6965           37.23m\n",
      "         6           0.6177           37.00m\n",
      "         7           0.5493           36.78m\n",
      "         8           0.4897           36.78m\n",
      "         9           0.4375           36.71m\n",
      "        10           0.3916           41.78m\n",
      "        20           0.1387           38.10m\n",
      "        30           0.0541           36.29m\n",
      "        40           0.0240           34.99m\n",
      "        50           0.0130           33.90m\n",
      "        60           0.0090           32.94m\n",
      "        70           0.0075           32.02m\n",
      "        80           0.0070           31.13m\n",
      "        90           0.0068           30.29m\n",
      "       100           0.0067           29.48m\n",
      "       200           0.0067           20.39m\n",
      "       300           0.0067           12.58m\n",
      "       400           0.0067            6.04m\n",
      "       500           0.0067            0.00s\n",
      "[CV] END ....................max_depth=300, n_estimators=500; total time=29.3min\n",
      "      Iter       Train Loss   Remaining Time \n",
      "         1           1.1770           34.98m\n",
      "         2           1.0235           35.78m\n",
      "         3           0.8960           35.26m\n",
      "         4           0.7885           35.01m\n",
      "         5           0.6969           34.90m\n",
      "         6           0.6180           40.59m\n",
      "         7           0.5497           39.61m\n",
      "         8           0.4902           38.99m\n",
      "         9           0.4380           38.29m\n",
      "        10           0.3921           37.75m\n",
      "        20           0.1393           35.12m\n",
      "        30           0.0548           33.44m\n",
      "        40           0.0247           32.27m\n",
      "        50           0.0137           31.29m\n",
      "        60           0.0097           30.42m\n",
      "        70           0.0083           29.60m\n",
      "        80           0.0077           28.83m\n",
      "        90           0.0075           28.16m\n",
      "       100           0.0074           27.57m\n",
      "       200           0.0074           19.27m\n",
      "       300           0.0074           12.16m\n",
      "       400           0.0074            6.10m\n",
      "       500           0.0074            0.00s\n",
      "[CV] END ....................max_depth=300, n_estimators=500; total time=32.4min\n",
      "      Iter       Train Loss   Remaining Time \n",
      "         1           1.1769           32.27m\n",
      "         2           1.0233           32.70m\n",
      "         3           0.8957           32.93m\n",
      "         4           0.7882           33.07m\n",
      "         5           0.6966           32.98m\n",
      "         6           0.6177           32.85m\n",
      "         7           0.5494           32.59m\n",
      "         8           0.4898           32.41m\n",
      "         9           0.4377           32.30m\n",
      "        10           0.3918           32.21m\n",
      "        20           0.1388           31.36m\n",
      "        30           0.0543           30.53m\n",
      "        40           0.0241           29.90m\n",
      "        50           0.0132           29.44m\n",
      "        60           0.0092           29.09m\n",
      "        70           0.0077           28.45m\n",
      "        80           0.0071           27.60m\n",
      "        90           0.0069           26.75m\n",
      "       100           0.0069           25.97m\n",
      "       200           0.0068           18.22m\n",
      "       300           0.0068           11.63m\n",
      "       400           0.0068            5.76m\n",
      "       500           0.0068            0.00s\n",
      "[CV] END ....................max_depth=300, n_estimators=500; total time=28.3min\n",
      "      Iter       Train Loss   Remaining Time \n",
      "         1           1.1769           36.40m\n",
      "         2           1.0233           36.40m\n",
      "         3           0.8958           36.34m\n",
      "         4           0.7884           36.56m\n",
      "         5           0.6968           36.36m\n",
      "         6           0.6179           36.15m\n",
      "         7           0.5496           36.07m\n",
      "         8           0.4901           36.06m\n",
      "         9           0.4379           35.90m\n",
      "        10           0.3920           35.75m\n",
      "        20           0.1392           34.80m\n",
      "        30           0.0547           33.87m\n",
      "        40           0.0246           33.02m\n",
      "        50           0.0136           32.23m\n",
      "        60           0.0096           31.49m\n",
      "        70           0.0081           30.77m\n",
      "        80           0.0076           30.04m\n",
      "        90           0.0074           29.32m\n",
      "       100           0.0073           28.59m\n",
      "       200           0.0073           20.20m\n",
      "       300           0.0073           12.43m\n",
      "       400           0.0073            6.07m\n",
      "       500           0.0073            0.00s\n",
      "[CV] END ....................max_depth=300, n_estimators=500; total time=29.6min\n",
      "      Iter       Train Loss   Remaining Time \n",
      "         1           1.1767           93.61m\n",
      "         2           1.0230           84.81m\n",
      "         3           0.8953           81.52m\n",
      "         4           0.7877           80.63m\n",
      "         5           0.6960           96.14m\n",
      "         6           0.6170           92.69m\n"
     ]
    },
    {
     "name": "stdout",
     "output_type": "stream",
     "text": [
      "         7           0.5486           90.02m\n",
      "         8           0.4890           88.05m\n",
      "         9           0.4368           86.26m\n",
      "        10           0.3908           85.06m\n",
      "        20           0.1377           78.79m\n",
      "        30           0.0530           75.90m\n",
      "        40           0.0228           73.93m\n",
      "        50           0.0119           72.57m\n",
      "        60           0.0079           71.44m\n",
      "        70           0.0064           70.46m\n",
      "        80           0.0058           69.44m\n",
      "        90           0.0056           68.54m\n",
      "       100           0.0056           67.63m\n",
      "       200           0.0055           54.55m\n",
      "       300           0.0055           41.94m\n",
      "       400           0.0055           34.90m\n",
      "       500           0.0055           28.39m\n",
      "       600           0.0055           22.56m\n",
      "       700           0.0055           16.85m\n",
      "       800           0.0055           11.29m\n",
      "       900           0.0055            7.02m\n",
      "      1000           0.0055            0.00s\n",
      "[CV] END ..................max_depth=300, n_estimators=1000; total time=162.5min\n",
      "      Iter       Train Loss   Remaining Time \n",
      "         1           1.1769           72.65m\n",
      "         2           1.0233           74.15m\n",
      "         3           0.8957           74.30m\n",
      "         4           0.7882           74.01m\n",
      "         5           0.6965           74.21m\n",
      "         6           0.6177           73.92m\n",
      "         7           0.5493           74.00m\n",
      "         8           0.4897           74.07m\n",
      "         9           0.4375           73.96m\n",
      "        10           0.3916           73.88m\n",
      "        20           0.1387           72.90m\n",
      "        30           0.0541           71.63m\n",
      "        40           0.0240           71.22m\n",
      "        50           0.0130           70.13m\n",
      "        60           0.0090           69.14m\n",
      "        70           0.0075           68.27m\n",
      "        80           0.0070           67.39m\n",
      "        90           0.0068           66.50m\n",
      "       100           0.0067           65.65m\n",
      "       200           0.0067           53.69m\n",
      "       300           0.0067           43.55m\n",
      "       400           0.0067           35.93m\n",
      "       500           0.0067           29.29m\n",
      "       600           0.0067           23.04m\n",
      "       700           0.0067           17.74m\n",
      "       800           0.0067           19.34m\n",
      "       900           0.0067           15.09m\n",
      "      1000           0.0067            0.00s\n",
      "[CV] END ..................max_depth=300, n_estimators=1000; total time=277.2min\n",
      "      Iter       Train Loss   Remaining Time \n",
      "         1           1.1770           70.13m\n",
      "         2           1.0235           71.61m\n",
      "         3           0.8960           70.62m\n",
      "         4           0.7885           70.20m\n",
      "         5           0.6969           69.96m\n",
      "         6           0.6180           81.49m\n",
      "         7           0.5497           79.61m\n",
      "         8           0.4902           78.46m\n",
      "         9           0.4380           77.16m\n",
      "        10           0.3921           76.28m\n",
      "        20           0.1393           71.70m\n",
      "        30           0.0548           69.06m\n",
      "        40           0.0247           67.42m\n",
      "        50           0.0137           70.44m\n",
      "        60           0.0097         2129.31m\n",
      "        70           0.0083         3035.69m\n",
      "        80           0.0077         2640.11m\n",
      "        90           0.0075         2332.19m\n",
      "       100           0.0074         2085.63m\n",
      "       200           0.0074          964.70m\n",
      "       300           0.0074          583.23m\n",
      "       400           0.0074          389.56m\n",
      "       500           0.0074          273.81m\n",
      "       600           0.0074          197.02m\n",
      "       700           0.0074          145.59m\n",
      "       800           0.0074          108.72m\n",
      "       900           0.0074           73.35m\n",
      "      1000           0.0074            0.00s\n",
      "[CV] END ..................max_depth=300, n_estimators=1000; total time=807.0min\n",
      "      Iter       Train Loss   Remaining Time \n",
      "         1           1.1769           64.87m\n",
      "         2           1.0233           65.47m\n",
      "         3           0.8957           65.99m\n",
      "         4           0.7882           66.35m\n",
      "         5           0.6966           65.99m\n",
      "         6           0.6177           65.97m\n",
      "         7           0.5494           65.68m\n",
      "         8           0.4898           65.38m\n",
      "         9           0.4377           65.19m\n",
      "        10           0.3918           65.03m\n",
      "        20           0.1388           64.07m\n",
      "        30           0.0543           63.08m\n",
      "        40           0.0241           62.45m\n",
      "        50           0.0132           62.00m\n",
      "        60           0.0092           61.92m\n",
      "        70           0.0077           61.27m\n",
      "        80           0.0071           60.16m\n",
      "        90           0.0069           59.12m\n",
      "       100           0.0069           58.14m\n",
      "       200           0.0068           48.69m\n",
      "       300           0.0068           41.25m\n",
      "       400           0.0068           34.06m\n",
      "       500           0.0068           42.25m\n",
      "       600           0.0068           31.67m\n",
      "       700           0.0068           23.05m\n",
      "       800           0.0068           26.75m\n",
      "       900           0.0068           25.49m\n",
      "      1000           0.0068            0.00s\n",
      "[CV] END ..................max_depth=300, n_estimators=1000; total time=407.8min\n",
      "      Iter       Train Loss   Remaining Time \n",
      "         1           1.1769           73.77m\n",
      "         2           1.0233           73.35m\n",
      "         3           0.8958           73.77m\n",
      "         4           0.7884           74.22m\n",
      "         5           0.6968           74.00m\n",
      "         6           0.6179           73.41m\n",
      "         7           0.5496           73.29m\n",
      "         8           0.4901           73.23m\n",
      "         9           0.4379           72.97m\n",
      "        10           0.3920           72.77m\n",
      "        20           0.1392           71.47m\n",
      "        30           0.0547           70.21m\n",
      "        40           0.0246           69.25m\n",
      "        50           0.0136           68.40m\n",
      "        60           0.0096           67.66m\n",
      "        70           0.0081           66.88m\n",
      "        80           0.0076           66.10m\n",
      "        90           0.0074           65.31m\n",
      "       100           0.0073           64.53m\n",
      "       200           0.0073           53.57m\n",
      "       300           0.0073           44.48m\n",
      "       400           0.0073           37.33m\n",
      "       500           0.0073           30.37m\n",
      "       600           0.0073           23.90m\n",
      "       700           0.0073           23.28m\n",
      "       800           0.0073           24.62m\n",
      "       900           0.0073           24.29m\n",
      "      1000           0.0073            0.00s\n",
      "[CV] END ..................max_depth=300, n_estimators=1000; total time=374.0min\n",
      "      Iter       Train Loss   Remaining Time \n",
      "         1           1.1767            9.26m\n",
      "         2           1.0230            8.36m\n",
      "         3           0.8953            7.96m\n",
      "         4           0.7877            7.75m\n",
      "         5           0.6960            8.06m\n",
      "         6           0.6170            7.82m\n",
      "         7           0.5486            7.67m\n",
      "         8           0.4890            7.51m\n",
      "         9           0.4368            7.35m\n",
      "        10           0.3908            7.26m\n",
      "        20           0.1377            6.23m\n",
      "        30           0.0530            5.37m\n",
      "        40           0.0228            4.56m\n",
      "        50           0.0119            3.78m\n",
      "        60           0.0079            3.02m\n",
      "        70           0.0064            2.29m\n",
      "        80           0.0058           12.30m\n",
      "        90           0.0056           24.13m\n",
      "       100           0.0056            0.00s\n",
      "[CV] END ...................max_depth=500, n_estimators=100; total time=297.1min\n",
      "      Iter       Train Loss   Remaining Time \n",
      "         1           1.1769           11.75m\n",
      "         2           1.0233           11.83m\n",
      "         3           0.8957           11.69m\n",
      "         4           0.7882           11.60m\n",
      "         5           0.6965           11.44m\n",
      "         6           0.6177           11.29m\n",
      "         7           0.5493           11.18m\n",
      "         8           0.4897           11.08m\n",
      "         9           0.4375           10.97m\n",
      "        10           0.3916           10.84m\n",
      "        20           0.1387           10.07m\n",
      "        30           0.0541            8.61m\n",
      "        40           0.0240            7.31m\n"
     ]
    },
    {
     "name": "stdout",
     "output_type": "stream",
     "text": [
      "        50           0.0130            6.05m\n",
      "        60           0.0090            4.82m\n",
      "        70           0.0075            3.60m\n",
      "        80           0.0070            2.39m\n",
      "        90           0.0068            1.19m\n",
      "       100           0.0067            0.00s\n",
      "[CV] END ....................max_depth=500, n_estimators=100; total time=11.9min\n",
      "      Iter       Train Loss   Remaining Time \n",
      "         1           1.1770           11.27m\n",
      "         2           1.0235           11.38m\n",
      "         3           0.8960           11.12m\n",
      "         4           0.7885           10.94m\n",
      "         5           0.6969           10.80m\n",
      "         6           0.6180           12.70m\n",
      "         7           0.5497           12.26m\n",
      "         8           0.4902           11.94m\n",
      "         9           0.4380           11.61m\n",
      "        10           0.3921           11.34m\n",
      "        20           0.1393            9.42m\n",
      "        30           0.0548            8.03m\n",
      "        40           0.0247            6.79m\n",
      "        50           0.0137            5.61m\n",
      "        60           0.0097            4.46m\n",
      "        70           0.0083            3.33m\n",
      "        80           0.0077            2.22m\n",
      "        90           0.0075            1.11m\n",
      "       100           0.0074            0.00s\n",
      "[CV] END ....................max_depth=500, n_estimators=100; total time=11.0min\n",
      "      Iter       Train Loss   Remaining Time \n",
      "         1           1.1769           10.54m\n",
      "         2           1.0233           10.45m\n",
      "         3           0.8957           10.49m\n",
      "         4           0.7882           10.45m\n",
      "         5           0.6966           10.28m\n",
      "         6           0.6177           10.16m\n",
      "         7           0.5494           10.01m\n",
      "         8           0.4898            9.85m\n",
      "         9           0.4377            9.73m\n",
      "        10           0.3918            9.61m\n",
      "        20           0.1388            8.48m\n",
      "        30           0.0543            7.36m\n",
      "        40           0.0241            6.31m\n",
      "        50           0.0132            5.31m\n",
      "        60           0.0092            4.27m\n",
      "        70           0.0077            3.21m\n",
      "        80           0.0071            2.12m\n",
      "        90           0.0069            1.05m\n",
      "       100           0.0069            0.00s\n",
      "[CV] END ....................max_depth=500, n_estimators=100; total time=10.5min\n",
      "      Iter       Train Loss   Remaining Time \n",
      "         1           1.1769           11.87m\n",
      "         2           1.0233           11.59m\n",
      "         3           0.8958           11.45m\n",
      "         4           0.7884           11.41m\n",
      "         5           0.6968           11.25m\n",
      "         6           0.6179           11.10m\n",
      "         7           0.5496           10.99m\n",
      "         8           0.4901           10.85m\n",
      "         9           0.4379           10.72m\n",
      "        10           0.3920           10.61m\n",
      "        20           0.1392            9.38m\n",
      "        30           0.0547            8.16m\n",
      "        40           0.0246            6.97m\n",
      "        50           0.0136            5.79m\n",
      "        60           0.0096            4.63m\n",
      "        70           0.0081            3.47m\n",
      "        80           0.0076            2.32m\n",
      "        90           0.0074            1.16m\n",
      "       100           0.0073            0.00s\n",
      "[CV] END ....................max_depth=500, n_estimators=100; total time=11.6min\n",
      "      Iter       Train Loss   Remaining Time \n",
      "         1           1.1767           45.66m\n",
      "         2           1.0230           40.82m\n",
      "         3           0.8953           39.18m\n",
      "         4           0.7877           38.46m\n",
      "         5           0.6960           43.72m\n",
      "         6           0.6170           42.35m\n",
      "         7           0.5486           41.38m\n",
      "         8           0.4890           40.52m\n",
      "         9           0.4368           39.82m\n",
      "        10           0.3908           39.38m\n",
      "        20           0.1377           35.97m\n",
      "        30           0.0530           33.95m\n",
      "        40           0.0228           32.33m\n",
      "        50           0.0119           30.85m\n",
      "        60           0.0079           29.42m\n",
      "        70           0.0064           28.08m\n",
      "        80           0.0058           26.80m\n",
      "        90           0.0056           25.53m\n",
      "       100           0.0056           24.28m\n",
      "       200           0.0055           10.95m\n",
      "       300           0.0055            0.00s\n",
      "[CV] END ....................max_depth=500, n_estimators=300; total time=29.1min\n",
      "      Iter       Train Loss   Remaining Time \n",
      "         1           1.1769           35.29m\n",
      "         2           1.0233           35.79m\n",
      "         3           0.8957           35.69m\n",
      "         4           0.7882           35.68m\n",
      "         5           0.6965           35.48m\n",
      "         6           0.6177           35.31m\n",
      "         7           0.5493           35.24m\n",
      "         8           0.4897           35.34m\n",
      "         9           0.4375           35.24m\n",
      "        10           0.3916           35.11m\n",
      "        20           0.1387           33.59m\n",
      "        30           0.0541           32.09m\n",
      "        40           0.0240           30.83m\n",
      "        50           0.0130           29.58m\n",
      "        60           0.0090           28.38m\n",
      "        70           0.0075           27.14m\n",
      "        80           0.0070           25.91m\n",
      "        90           0.0068           24.70m\n",
      "       100           0.0067           23.50m\n",
      "       200           0.0067           10.82m\n",
      "       300           0.0067            0.00s\n",
      "[CV] END ....................max_depth=500, n_estimators=300; total time=30.1min\n",
      "      Iter       Train Loss   Remaining Time \n",
      "         1           1.1770           33.73m\n",
      "         2           1.0235           34.40m\n",
      "         3           0.8960           33.90m\n",
      "         4           0.7885           33.62m\n",
      "         5           0.6969           33.81m\n",
      "         6           0.6180           39.92m\n",
      "         7           0.5497           38.79m\n",
      "         8           0.4902           38.01m\n",
      "         9           0.4380           37.21m\n",
      "        10           0.3921           36.59m\n",
      "        20           0.1393           33.30m\n",
      "        30           0.0548           31.15m\n",
      "        40           0.0247           29.53m\n",
      "        50           0.0137           28.11m\n",
      "        60           0.0097           26.82m\n",
      "        70           0.0083           25.59m\n",
      "        80           0.0077           24.39m\n",
      "        90           0.0075           23.22m\n",
      "       100           0.0074           22.06m\n",
      "       200           0.0074           10.45m\n",
      "       300           0.0074            0.00s\n",
      "[CV] END ....................max_depth=500, n_estimators=300; total time=29.7min\n",
      "      Iter       Train Loss   Remaining Time \n",
      "         1           1.1769           32.08m\n",
      "         2           1.0233           32.23m\n",
      "         3           0.8957           32.09m\n",
      "         4           0.7882           32.05m\n",
      "         5           0.6966           31.81m\n",
      "         6           0.6177           31.62m\n",
      "         7           0.5494           31.34m\n",
      "         8           0.4898           31.12m\n",
      "         9           0.4377           30.94m\n",
      "        10           0.3918           30.81m\n",
      "        20           0.1388           29.56m\n",
      "        30           0.0543           28.28m\n",
      "        40           0.0241           27.17m\n",
      "        50           0.0132           26.21m\n",
      "        60           0.0092           25.35m\n",
      "        70           0.0077           24.24m\n",
      "        80           0.0071           23.02m\n",
      "        90           0.0069           21.80m\n",
      "       100           0.0069           20.68m\n",
      "       200           0.0068            9.77m\n",
      "       300           0.0068            0.00s\n",
      "[CV] END ...................max_depth=500, n_estimators=300; total time=437.0min\n",
      "      Iter       Train Loss   Remaining Time \n",
      "         1           1.1769         4576.17m\n",
      "         2           1.0233         2297.76m\n",
      "         3           0.8958         3240.54m\n",
      "         4           0.7884         3724.51m\n",
      "         5           0.6968         3998.65m\n",
      "         6           0.6179         4151.04m\n",
      "         7           0.5496         4294.89m\n",
      "         8           0.4901         4364.58m\n",
      "         9           0.4379         4400.48m\n",
      "        10           0.3920         3950.18m\n",
      "        20           0.1392         4284.59m\n",
      "        30           0.0547         3057.29m\n",
      "        40           0.0246         2212.62m\n"
     ]
    },
    {
     "name": "stdout",
     "output_type": "stream",
     "text": [
      "        50           0.0136         1705.54m\n",
      "        60           0.0096         1367.24m\n",
      "        70           0.0081         1125.41m\n",
      "        80           0.0076          943.87m\n",
      "        90           0.0074          802.51m\n",
      "       100           0.0073          689.29m\n",
      "       200           0.0073          175.44m\n",
      "       300           0.0073            0.00s\n",
      "[CV] END ...................max_depth=500, n_estimators=300; total time=356.3min\n",
      "      Iter       Train Loss   Remaining Time \n",
      "         1           1.1767           46.42m\n",
      "         2           1.0230           42.20m\n",
      "         3           0.8953           40.20m\n",
      "         4           0.7877           39.56m\n",
      "         5           0.6960           39.19m\n",
      "         6           0.6170           38.66m\n",
      "         7           0.5486           38.46m\n",
      "         8           0.4890           38.18m\n",
      "         9           0.4368           37.88m\n",
      "        10           0.3908           37.81m\n",
      "        20           0.1377           36.42m\n",
      "        30           0.0530           35.39m\n",
      "        40           0.0228           34.43m\n",
      "        50           0.0119           33.61m\n",
      "        60           0.0079           32.78m\n",
      "        70           0.0064           32.02m\n",
      "        80           0.0058           31.26m\n",
      "        90           0.0056           30.50m\n",
      "       100           0.0056           29.74m\n",
      "       200           0.0055           20.49m\n",
      "       300           0.0055           12.17m\n",
      "       400           0.0055            5.82m\n",
      "       500           0.0055            0.00s\n",
      "[CV] END ....................max_depth=500, n_estimators=500; total time=28.3min\n",
      "      Iter       Train Loss   Remaining Time \n",
      "         1           1.1769           36.55m\n",
      "         2           1.0233           37.12m\n",
      "         3           0.8957           37.05m\n",
      "         4           0.7882           36.83m\n",
      "         5           0.6965           36.87m\n",
      "         6           0.6177           36.69m\n",
      "         7           0.5493           36.67m\n",
      "         8           0.4897           36.67m\n",
      "         9           0.4375           36.51m\n",
      "        10           0.3916           36.46m\n",
      "        20           0.1387           37.21m\n",
      "        30           0.0541           35.60m\n",
      "        40           0.0240           34.58m\n",
      "        50           0.0130           33.61m\n",
      "        60           0.0090           32.69m\n",
      "        70           0.0075           31.85m\n",
      "        80           0.0070           30.99m\n",
      "        90           0.0068           30.18m\n",
      "       100           0.0067           29.40m\n",
      "       200           0.0067           20.45m\n",
      "       300           0.0067           12.61m\n",
      "       400           0.0067            6.11m\n",
      "       500           0.0067            0.00s\n",
      "[CV] END ....................max_depth=500, n_estimators=500; total time=29.7min\n",
      "      Iter       Train Loss   Remaining Time \n",
      "         1           1.1770           35.02m\n",
      "         2           1.0235           35.78m\n",
      "         3           0.8960           35.27m\n",
      "         4           0.7885           35.00m\n",
      "         5           0.6969           34.81m\n",
      "         6           0.6180           41.33m\n",
      "         7           0.5497           40.25m\n",
      "         8           0.4902           39.57m\n",
      "         9           0.4380           38.81m\n",
      "        10           0.3921           38.28m\n",
      "        20           0.1393           35.38m\n",
      "        30           0.0548           33.62m\n",
      "        40           0.0247           32.41m\n",
      "        50           0.0137           31.41m\n",
      "        60           0.0097           30.53m\n",
      "        70           0.0083           29.70m\n",
      "        80           0.0077           28.91m\n",
      "        90           0.0075           28.15m\n",
      "       100           0.0074           27.40m\n",
      "       200           0.0074           19.22m\n",
      "       300           0.0074           12.24m\n",
      "       400           0.0074            6.06m\n",
      "       500           0.0074            0.00s\n",
      "[CV] END ....................max_depth=500, n_estimators=500; total time=31.1min\n",
      "      Iter       Train Loss   Remaining Time \n",
      "         1           1.1769           32.56m\n",
      "         2           1.0233           32.82m\n",
      "         3           0.8957           32.85m\n",
      "         4           0.7882           33.08m\n",
      "         5           0.6966           32.87m\n",
      "         6           0.6177           32.78m\n",
      "         7           0.5494           32.62m\n",
      "         8           0.4898           32.43m\n",
      "         9           0.4377           32.37m\n",
      "        10           0.3918           32.27m\n",
      "        20           0.1388           32.07m\n",
      "        30           0.0543           30.94m\n",
      "        40           0.0241           30.12m\n",
      "        50           0.0132           29.85m\n",
      "        60           0.0092           29.27m\n",
      "        70           0.0077           28.47m\n",
      "        80           0.0071           27.53m\n",
      "        90           0.0069           26.69m\n",
      "       100           0.0069           25.89m\n",
      "       200           0.0068           18.47m\n",
      "       300           0.0068           11.84m\n",
      "       400           0.0068            5.81m\n",
      "       500           0.0068            0.00s\n",
      "[CV] END ....................max_depth=500, n_estimators=500; total time=28.6min\n",
      "      Iter       Train Loss   Remaining Time \n",
      "         1           1.1769           36.54m\n",
      "         2           1.0233           36.51m\n",
      "         3           0.8958           36.47m\n",
      "         4           0.7884           36.47m\n",
      "         5           0.6968           36.39m\n",
      "         6           0.6179           36.29m\n",
      "         7           0.5496           36.19m\n",
      "         8           0.4901           36.03m\n",
      "         9           0.4379           35.94m\n",
      "        10           0.3920           35.87m\n",
      "        20           0.1392           34.89m\n",
      "        30           0.0547           33.88m\n",
      "        40           0.0246           33.05m\n",
      "        50           0.0136           32.30m\n",
      "        60           0.0096           31.56m\n",
      "        70           0.0081           30.82m\n",
      "        80           0.0076           30.07m\n",
      "        90           0.0074           29.33m\n",
      "       100           0.0073           28.61m\n",
      "       200           0.0073           20.15m\n",
      "       300           0.0073           12.48m\n",
      "       400           0.0073            6.08m\n",
      "       500           0.0073            0.00s\n",
      "[CV] END ....................max_depth=500, n_estimators=500; total time=29.8min\n",
      "      Iter       Train Loss   Remaining Time \n",
      "         1           1.1767           96.54m\n",
      "         2           1.0230           86.91m\n",
      "         3           0.8953           82.88m\n",
      "         4           0.7877           81.62m\n",
      "         5           0.6960           80.86m\n",
      "         6           0.6170           79.95m\n",
      "         7           0.5486           79.26m\n",
      "         8           0.4890           78.73m\n",
      "         9           0.4368           78.06m\n",
      "        10           0.3908           78.05m\n",
      "        20           0.1377           75.13m\n",
      "        30           0.0530           73.53m\n",
      "        40           0.0228           72.29m\n",
      "        50           0.0119           71.19m\n",
      "        60           0.0079           70.26m\n",
      "        70           0.0064           69.47m\n",
      "        80           0.0058           68.71m\n",
      "        90           0.0056           67.90m\n",
      "       100           0.0056           67.07m\n",
      "       200           0.0055           53.90m\n",
      "       300           0.0055           43.42m\n",
      "       400           0.0055           35.57m\n",
      "       500           0.0055           29.11m\n",
      "       600           0.0055           23.20m\n",
      "       700           0.0055           17.52m\n",
      "       800           0.0055           11.93m\n",
      "       900           0.0055            8.40m\n",
      "      1000           0.0055            0.00s\n",
      "[CV] END ..................max_depth=500, n_estimators=1000; total time=299.3min\n",
      "      Iter       Train Loss   Remaining Time \n",
      "         1           1.1769           72.52m\n",
      "         2           1.0233           74.11m\n",
      "         3           0.8957           74.22m\n",
      "         4           0.7882           74.51m\n",
      "         5           0.6965           74.07m\n",
      "         6           0.6177           73.90m\n",
      "         7           0.5493           73.87m\n",
      "         8           0.4897           74.37m\n",
      "         9           0.4375           74.25m\n",
      "        10           0.3916           74.11m\n",
      "        20           0.1387           76.43m\n",
      "        30           0.0541           73.96m\n"
     ]
    },
    {
     "name": "stdout",
     "output_type": "stream",
     "text": [
      "        40           0.0240           72.51m\n",
      "        50           0.0130           71.17m\n",
      "        60           0.0090           69.93m\n",
      "        70           0.0075           68.91m\n",
      "        80           0.0070           67.92m\n",
      "        90           0.0068           67.08m\n",
      "       100           0.0067           66.22m\n",
      "       200           0.0067           54.74m\n",
      "       300           0.0067           44.57m\n",
      "       400           0.0067           36.83m\n",
      "       500           0.0067           29.84m\n",
      "       600           0.0067           23.32m\n",
      "       700           0.0067           17.56m\n",
      "       800           0.0067           22.25m\n",
      "       900           0.0067           21.55m\n",
      "      1000           0.0067            0.00s\n",
      "[CV] END ..................max_depth=500, n_estimators=1000; total time=377.8min\n",
      "      Iter       Train Loss   Remaining Time \n",
      "         1           1.1770           70.20m\n",
      "         2           1.0235           71.64m\n",
      "         3           0.8960           70.63m\n",
      "         4           0.7885           70.21m\n",
      "         5           0.6969           69.95m\n",
      "         6           0.6180           83.17m\n",
      "         7           0.5497           81.05m\n",
      "         8           0.4902           79.71m\n",
      "         9           0.4380           78.27m\n",
      "        10           0.3921           77.15m\n",
      "        20           0.1393           72.19m\n",
      "        30           0.0548           69.35m\n",
      "        40           0.0247           67.59m\n",
      "        50           0.0137           66.44m\n",
      "        60           0.0097           65.31m\n",
      "        70           0.0083           64.31m\n",
      "        80           0.0077           63.37m\n",
      "        90           0.0075           62.52m\n",
      "       100           0.0074           61.76m\n",
      "       200           0.0074           51.04m\n",
      "       300           0.0074           42.62m\n",
      "       400           0.0074           36.50m\n",
      "       500           0.0074           31.73m\n",
      "       600           0.0074           28.37m\n",
      "       700           0.0074           27.61m\n",
      "       800           0.0074           42.90m\n",
      "       900           0.0074           43.91m\n",
      "      1000           0.0074            0.00s\n",
      "[CV] END ..................max_depth=500, n_estimators=1000; total time=625.8min\n",
      "      Iter       Train Loss   Remaining Time \n",
      "         1           1.1769           65.88m\n",
      "         2           1.0233           65.84m\n",
      "         3           0.8957           66.31m\n",
      "         4           0.7882           66.60m\n",
      "         5           0.6966           66.41m\n",
      "         6           0.6177           66.27m\n",
      "         7           0.5494           66.00m\n",
      "         8           0.4898           65.72m\n",
      "         9           0.4377           65.54m\n",
      "        10           0.3918           65.43m\n",
      "        20           0.1388           64.17m\n",
      "        30           0.0543           63.08m\n",
      "        40           0.0241           62.23m\n",
      "        50           0.0132           62.02m\n",
      "        60           0.0092           61.41m\n",
      "        70           0.0077           61.07m\n",
      "        80           0.0071           59.98m\n",
      "        90           0.0069           58.92m\n",
      "       100           0.0069           58.00m\n",
      "       200           0.0068           48.91m\n",
      "       300           0.0068           40.84m\n",
      "       400           0.0068           34.07m\n",
      "       500           0.0068           28.15m\n",
      "       600           0.0068           22.23m\n",
      "       700           0.0068          190.50m\n",
      "       800           0.0068          137.43m\n"
     ]
    }
   ],
   "source": [
    "grid = GridSearchCV(GradientBoostingClassifier(verbose=1), param_grid, verbose=2)\n",
    "\n",
    "grid.fit(embeddings, y_train)"
   ]
  },
  {
   "cell_type": "code",
   "execution_count": null,
   "id": "2e0eca8a",
   "metadata": {},
   "outputs": [],
   "source": [
    "grid.best_params_"
   ]
  },
  {
   "cell_type": "code",
   "execution_count": null,
   "id": "ee17307b",
   "metadata": {},
   "outputs": [],
   "source": [
    "grid.best_estimator_.score(val_embeddings, y_val)"
   ]
  },
  {
   "cell_type": "code",
   "execution_count": null,
   "id": "7fcd9ee3",
   "metadata": {},
   "outputs": [],
   "source": []
  }
 ],
 "metadata": {
  "kernelspec": {
   "display_name": "Python 3 (ipykernel)",
   "language": "python",
   "name": "python3"
  },
  "language_info": {
   "codemirror_mode": {
    "name": "ipython",
    "version": 3
   },
   "file_extension": ".py",
   "mimetype": "text/x-python",
   "name": "python",
   "nbconvert_exporter": "python",
   "pygments_lexer": "ipython3",
   "version": "3.9.13"
  }
 },
 "nbformat": 4,
 "nbformat_minor": 5
}
